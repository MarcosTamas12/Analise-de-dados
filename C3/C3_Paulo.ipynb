{
 "cells": [
  {
   "cell_type": "markdown",
   "id": "982f9b14",
   "metadata": {},
   "source": [
    "!pip install xgboost"
   ]
  },
  {
   "cell_type": "code",
   "execution_count": 36,
   "id": "ad871dcd",
   "metadata": {},
   "outputs": [],
   "source": [
    "import math\n",
    "import os\n",
    "import random\n",
    "from collections import defaultdict\n",
    "from itertools import product\n",
    "\n",
    "\n",
    "import statistics as st\n",
    "import numpy as np\n",
    "import pandas as pd\n",
    "from scipy.stats import variation\n",
    "import matplotlib.pylab as plt\n",
    "from sklearn import preprocessing\n",
    "from sklearn.naive_bayes import MultinomialNB\n",
    "from sklearn.linear_model import LogisticRegression\n",
    "from sklearn.metrics import recall_score\n",
    "from sklearn.metrics import precision_score\n",
    "from sklearn import metrics\n",
    "from sklearn.metrics import roc_curve, accuracy_score, roc_auc_score\n",
    "from sklearn.metrics import confusion_matrix, precision_recall_fscore_support\n",
    "from sklearn.model_selection import train_test_split\n",
    "from sklearn.linear_model import LinearRegression\n",
    "from sklearn.metrics import r2_score\n",
    "import seaborn as sns\n",
    "from sklearn import svm\n",
    "from sklearn.model_selection import cross_val_score\n",
    "from sklearn.utils import resample\n",
    "\n",
    "from sklearn import preprocessing\n",
    "from sklearn.neighbors import KNeighborsClassifier\n",
    "from sklearn.model_selection import train_test_split\n",
    "from sklearn.tree import DecisionTreeClassifier\n",
    "from sklearn.ensemble import RandomForestClassifier\n",
    "from itertools import zip_longest\n",
    "from matplotlib.patches import Ellipse\n",
    "\n",
    "from xgboost import XGBClassifier"
   ]
  },
  {
   "cell_type": "code",
   "execution_count": 37,
   "id": "75b46963",
   "metadata": {},
   "outputs": [],
   "source": [
    "df_data = pd.read_csv('ticdata2000.txt',sep='\\t', header=None)\n",
    "df_eval = pd.read_csv('ticeval2000.txt',sep='\\t', header=None)\n",
    "df_tgts = pd.read_csv('tictgts2000.txt',sep='\\t', header=None)\n"
   ]
  },
  {
   "cell_type": "code",
   "execution_count": 38,
   "id": "4853c2e2",
   "metadata": {
    "scrolled": true
   },
   "outputs": [
    {
     "data": {
      "text/plain": [
       "Int64Index([ 0,  1,  2,  3,  4,  5,  6,  7,  8,  9, 10, 11, 12, 13, 14, 15, 16,\n",
       "            17, 18, 19, 20, 21, 22, 23, 24, 25, 26, 27, 28, 29, 30, 31, 32, 33,\n",
       "            34, 35, 36, 37, 38, 39, 40, 41, 42, 43, 44, 45, 46, 47, 48, 49, 50,\n",
       "            51, 52, 53, 54, 55, 56, 57, 58, 59, 60, 61, 62, 63, 64, 65, 66, 67,\n",
       "            68, 69, 70, 71, 72, 73, 74, 75, 76, 77, 78, 79, 80, 81, 82, 83, 84,\n",
       "            85],\n",
       "           dtype='int64')"
      ]
     },
     "execution_count": 38,
     "metadata": {},
     "output_type": "execute_result"
    }
   ],
   "source": [
    "df_data.columns"
   ]
  },
  {
   "cell_type": "code",
   "execution_count": 39,
   "id": "cc2ea787",
   "metadata": {},
   "outputs": [
    {
     "data": {
      "text/plain": [
       "Int64Index([ 0,  1,  2,  3,  4,  5,  6,  7,  8,  9, 10, 11, 12, 13, 14, 15, 16,\n",
       "            17, 18, 19, 20, 21, 22, 23, 24, 25, 26, 27, 28, 29, 30, 31, 32, 33,\n",
       "            34, 35, 36, 37, 38, 39, 40, 41, 42, 43, 44, 45, 46, 47, 48, 49, 50,\n",
       "            51, 52, 53, 54, 55, 56, 57, 58, 59, 60, 61, 62, 63, 64, 65, 66, 67,\n",
       "            68, 69, 70, 71, 72, 73, 74, 75, 76, 77, 78, 79, 80, 81, 82, 83,\n",
       "            84],\n",
       "           dtype='int64')"
      ]
     },
     "execution_count": 39,
     "metadata": {},
     "output_type": "execute_result"
    }
   ],
   "source": [
    "df_eval.columns"
   ]
  },
  {
   "cell_type": "code",
   "execution_count": 40,
   "id": "2aa6b3b9",
   "metadata": {},
   "outputs": [
    {
     "data": {
      "text/plain": [
       "Int64Index([0], dtype='int64')"
      ]
     },
     "execution_count": 40,
     "metadata": {},
     "output_type": "execute_result"
    }
   ],
   "source": [
    "df_tgts.columns"
   ]
  },
  {
   "cell_type": "code",
   "execution_count": 49,
   "id": "93a62bc5",
   "metadata": {},
   "outputs": [],
   "source": [
    "#X = ['0', '1', '2', '3',  '4',  '5',  '6',  '7',  '8',  '9', '10', '11', '12', '13', '14', '15', '16', '17',\n",
    "#            '18', '19', '20', '21', '22', '23', '24', '25', '26', '27', '28', '29', '30', '31', '32', '33', '34',\n",
    "#            '35', '36', '37', '38', '39', '40', '41', '42', '43', '44', '45', '46', '47', '48', '49', '50', '51',\n",
    "#            '52', '53', '54', '55', '56', '57', '58', '59', '60', '61', '62', '63', '64', '65', '66', '67', '68',\n",
    "#            '69', '70', '71', '72', '73', '74', '75', '76', '77', '78', '79', '80', '81', '82', '83', '84']\n",
    "#y = ['85']\n",
    "X = [ 0,  1,  2,  3,  4,  5,  6,  7,  8,  9, 10, 11, 12, 13, 14, 15, 16,\n",
    "            17, 18, 19, 20, 21, 22, 23, 24, 25, 26, 27, 28, 29, 30, 31, 32, 33,\n",
    "            34, 35, 36, 37, 38, 39, 40, 41, 42, 43, 44, 45, 46, 47, 48, 49, 50,\n",
    "            51, 52, 53, 54, 55, 56, 57, 58, 59, 60, 61, 62, 63, 64, 65, 66, 67,\n",
    "            68, 69, 70, 71, 72, 73, 74, 75, 76, 77, 78, 79, 80, 81, 82, 83, 84]\n",
    "\n",
    "\n",
    "y = df_data[85]"
   ]
  },
  {
   "cell_type": "code",
   "execution_count": 48,
   "id": "6d04438c",
   "metadata": {},
   "outputs": [
    {
     "data": {
      "text/plain": [
       "0       0\n",
       "1       0\n",
       "2       0\n",
       "3       0\n",
       "4       0\n",
       "       ..\n",
       "5817    0\n",
       "5818    0\n",
       "5819    1\n",
       "5820    0\n",
       "5821    0\n",
       "Name: 85, Length: 5822, dtype: int64"
      ]
     },
     "execution_count": 48,
     "metadata": {},
     "output_type": "execute_result"
    }
   ],
   "source": [
    "y"
   ]
  },
  {
   "cell_type": "code",
   "execution_count": 43,
   "id": "ca570251",
   "metadata": {
    "scrolled": false
   },
   "outputs": [
    {
     "data": {
      "text/plain": [
       "0    5474\n",
       "1     348\n",
       "Name: 85, dtype: int64"
      ]
     },
     "execution_count": 43,
     "metadata": {},
     "output_type": "execute_result"
    }
   ],
   "source": [
    "df_data[85].value_counts()"
   ]
  },
  {
   "cell_type": "code",
   "execution_count": 46,
   "id": "a3323d65",
   "metadata": {},
   "outputs": [],
   "source": [
    "X_train, X_test, y_train, y_test = train_test_split(df_data[X], df_data[y], test_size=0.3, random_state=42)"
   ]
  },
  {
   "cell_type": "code",
   "execution_count": 9,
   "id": "6c627b17",
   "metadata": {},
   "outputs": [],
   "source": [
    "os.environ['KMP_DUPLICATE_LIB_OK'] = 'TRUE'"
   ]
  },
  {
   "cell_type": "code",
   "execution_count": 10,
   "id": "dbe8aa7c",
   "metadata": {},
   "outputs": [
    {
     "name": "stdout",
     "output_type": "stream",
     "text": [
      "[[1.   0.  ]\n",
      " [0.8  0.2 ]\n",
      " [0.9  0.1 ]\n",
      " ...\n",
      " [1.   0.  ]\n",
      " [0.85 0.15]\n",
      " [0.9  0.1 ]]\n"
     ]
    }
   ],
   "source": [
    "predictors = df_data[X]\n",
    "outcome = df_data[y]\n",
    "\n",
    "knn = KNeighborsClassifier(n_neighbors=20)\n",
    "knn.fit(df_data[X], df_data[y])\n",
    "knn.predict(df_eval)\n",
    "print (knn.predict_proba(df_eval))\n",
    "\n",
    "fitted = knn.predict(df_eval)\n"
   ]
  },
  {
   "cell_type": "code",
   "execution_count": 11,
   "id": "898e85ef",
   "metadata": {},
   "outputs": [
    {
     "name": "stdout",
     "output_type": "stream",
     "text": [
      "Recall =  0.5\n",
      "Precision =  0.47025\n",
      "AUC =  0.6564936181809247\n"
     ]
    },
    {
     "name": "stderr",
     "output_type": "stream",
     "text": [
      "C:\\Users\\Marcos Tamas\\anaconda3\\lib\\site-packages\\sklearn\\metrics\\_classification.py:1327: UndefinedMetricWarning: Precision is ill-defined and being set to 0.0 in labels with no predicted samples. Use `zero_division` parameter to control this behavior.\n",
      "  _warn_prf(average, modifier, msg_start, len(result))\n",
      "C:\\Users\\Marcos Tamas\\anaconda3\\lib\\site-packages\\sklearn\\metrics\\_ranking.py:1016: UndefinedMetricWarning: No positive samples in y_true, true positive value should be meaningless\n",
      "  warnings.warn(\n"
     ]
    },
    {
     "data": {
      "image/png": "[encoded data removed]",
      "text/plain": [
       "<Figure size 432x288 with 1 Axes>"
      ]
     },
     "metadata": {
      "needs_background": "light"
     },
     "output_type": "display_data"
    }
   ],
   "source": [
    "prob= knn.predict_proba(df_eval)\n",
    "prob = prob[:, 1]\n",
    "print('Recall = ', recall_score(df_tgts, fitted, average='macro'))\n",
    "\n",
    "print('Precision = ' ,precision_score(df_tgts, fitted, average='macro'))\n",
    "\n",
    "fpr, tpr, thresholds = metrics.roc_curve(df_tgts, fitted, pos_label=2)\n",
    "print('AUC = ', metrics.roc_auc_score(df_tgts, prob))\n",
    "\n",
    "\n",
    "def plot_roc_curve(fper, tper):\n",
    "    plt.plot(fper, tper, color='red', label='ROC')\n",
    "    plt.plot([0, 1], [0, 1], color='green', linestyle='--')\n",
    "    plt.xlabel('False Positive Rate')\n",
    "    plt.ylabel('True Positive Rate')\n",
    "    plt.title('Receiver Operating Characteristic Curve')\n",
    "    plt.legend()\n",
    "    plt.show()\n",
    "\n",
    "\n",
    "\n",
    "fper, tper, thresholds = roc_curve(df_tgts, prob)\n",
    "plot_roc_curve(fper, tper)"
   ]
  },
  {
   "cell_type": "code",
   "execution_count": 12,
   "id": "bd2fd80c",
   "metadata": {},
   "outputs": [
    {
     "name": "stdout",
     "output_type": "stream",
     "text": [
      "[[3762  238]\n",
      " [   0    0]]\n"
     ]
    }
   ],
   "source": [
    "print(confusion_matrix(df_tgts, fitted).transpose())"
   ]
  },
  {
   "cell_type": "code",
   "execution_count": 13,
   "id": "6e537163",
   "metadata": {},
   "outputs": [
    {
     "name": "stdout",
     "output_type": "stream",
     "text": [
      "Precision 0.9405\n",
      "Recall 1.0\n",
      "Specificity 0.0\n"
     ]
    }
   ],
   "source": [
    "conf_mat = confusion_matrix(df_tgts, fitted)\n",
    "print('Precision', conf_mat[0, 0] / sum(conf_mat[:, 0]))\n",
    "print('Recall', conf_mat[0, 0] / sum(conf_mat[0, :]))\n",
    "print('Specificity', conf_mat[1, 1] / sum(conf_mat[1, :]))"
   ]
  },
  {
   "cell_type": "code",
   "execution_count": 14,
   "id": "4495ef9f",
   "metadata": {},
   "outputs": [
    {
     "name": "stdout",
     "output_type": "stream",
     "text": [
      "[[0.98387097 0.01612903]\n",
      " [0.97826087 0.02173913]\n",
      " [0.97560976 0.02439024]\n",
      " ...\n",
      " [0.97633136 0.02366864]\n",
      " [1.         0.        ]\n",
      " [0.92713568 0.07286432]]\n"
     ]
    }
   ],
   "source": [
    "predictors = df_data[X]\n",
    "outcome = df_data[y]\n",
    "rf = RandomForestClassifier(n_estimators=500, random_state=1, \n",
    "                            oob_score=True)\n",
    "rf.fit(predictors, outcome)\n",
    "print(rf.oob_decision_function_)"
   ]
  },
  {
   "cell_type": "code",
   "execution_count": 15,
   "id": "62a3aedf",
   "metadata": {},
   "outputs": [
    {
     "name": "stdout",
     "output_type": "stream",
     "text": [
      "XGBClassifier(base_score=0.5, booster='gbtree', callbacks=None,\n",
      "              colsample_bylevel=1, colsample_bynode=1, colsample_bytree=1,\n",
      "              early_stopping_rounds=None, enable_categorical=False,\n",
      "              eval_metric='error', gamma=0, gpu_id=-1, grow_policy='depthwise',\n",
      "              importance_type=None, interaction_constraints='',\n",
      "              learning_rate=0.300000012, max_bin=256, max_cat_to_onehot=4,\n",
      "              max_delta_step=0, max_depth=6, max_leaves=0, min_child_weight=1,\n",
      "              missing=nan, monotone_constraints='()', n_estimators=100,\n",
      "              n_jobs=0, num_parallel_tree=1, predictor='auto', random_state=0,\n",
      "              reg_alpha=0, reg_lambda=1, ...)\n"
     ]
    }
   ],
   "source": [
    "predictors = df_data[X]\n",
    "outcome = df_data[y]\n",
    "\n",
    "\n",
    "xgb = XGBClassifier(objective='binary:logistic', subsample=.63, \n",
    "                    use_label_encoder=False, eval_metric='error')\n",
    "print(xgb.fit(predictors, outcome))"
   ]
  },
  {
   "cell_type": "code",
   "execution_count": 16,
   "id": "2e649746",
   "metadata": {},
   "outputs": [
    {
     "name": "stderr",
     "output_type": "stream",
     "text": [
      "C:\\Users\\Marcos Tamas\\anaconda3\\lib\\site-packages\\sklearn\\ensemble\\_forest.py:586: UserWarning: Some inputs do not have OOB scores. This probably means too few trees were used to compute any reliable OOB estimates.\n",
      "  warn(\n"
     ]
    }
   ],
   "source": [
    "n_estimator = list(range(20, 510, 5))\n",
    "oobScores = []\n",
    "for n in n_estimator:\n",
    "    rf = RandomForestClassifier(n_estimators=n, \n",
    "                                criterion='entropy',\n",
    "                                random_state=13, oob_score=True)\n",
    "    rf.fit(predictors, outcome)\n",
    "    oobScores.append(rf.oob_score_)"
   ]
  },
  {
   "cell_type": "code",
   "execution_count": 17,
   "id": "736a79c7",
   "metadata": {},
   "outputs": [
    {
     "data": {
      "text/plain": [
       "<AxesSubplot:title={'center':'Nº Estimadores(Árvores) x Taxa de Erro'}, xlabel='n'>"
      ]
     },
     "execution_count": 17,
     "metadata": {},
     "output_type": "execute_result"
    },
    {
     "data": {
      "image/png": "[encoded data removed]",
      "text/plain": [
       "<Figure size 432x288 with 1 Axes>"
      ]
     },
     "metadata": {
      "needs_background": "light"
     },
     "output_type": "display_data"
    }
   ],
   "source": [
    "pd.DataFrame({\n",
    "    'n': n_estimator, \n",
    "    'oobScore': oobScores\n",
    "}).plot(x='n', y='oobScore', legend=False, title='Nº Estimadores(Árvores) x Taxa de Erro')"
   ]
  },
  {
   "cell_type": "code",
   "execution_count": 18,
   "id": "70f9e8f2",
   "metadata": {},
   "outputs": [
    {
     "name": "stdout",
     "output_type": "stream",
     "text": [
      "XGBClassifier(base_score=0.5, booster='gbtree', callbacks=None,\n",
      "              colsample_bylevel=1, colsample_bynode=1, colsample_bytree=1,\n",
      "              early_stopping_rounds=None, enable_categorical=False,\n",
      "              eval_metric='error', gamma=0, gpu_id=-1, grow_policy='depthwise',\n",
      "              importance_type=None, interaction_constraints='',\n",
      "              learning_rate=0.1, max_bin=256, max_cat_to_onehot=4,\n",
      "              max_delta_step=0, max_depth=6, max_leaves=0, min_child_weight=1,\n",
      "              missing=nan, monotone_constraints='()', n_estimators=250,\n",
      "              n_jobs=0, num_parallel_tree=1, predictor='auto', random_state=0,\n",
      "              reg_alpha=0, reg_lambda=1000, ...)\n"
     ]
    }
   ],
   "source": [
    "predictors = [0,  1,  2,  3,  4,  5,  6,  7,  8,  9, 10, 11, 12, 13, 14, 15, 16,\n",
    "            17, 18, 19, 20, 21, 22, 23, 24, 25, 26, 27, 28, 29, 30, 31, 32, 33,\n",
    "            34, 35, 36, 37, 38, 39, 40, 41, 42, 43, 44, 45, 46, 47, 48, 49, 50,\n",
    "            51, 52, 53, 54, 55, 56, 57, 58, 59, 60, 61, 62, 63, 64, 65, 66, 67,\n",
    "            68, 69, 70, 71, 72, 73, 74, 75, 76, 77, 78, 79, 80, 81, 82, 83, 84]\n",
    "outcome = 85\n",
    "\n",
    "X = pd.get_dummies(df_data[predictors], drop_first=True)\n",
    "y = pd.Series([1 if o == 'default' else 0 for o in df_data[outcome]])\n",
    "\n",
    "train_X, valid_X, train_y, valid_y = train_test_split(X, y, test_size=5000)\n",
    "\n",
    "xgb_default = XGBClassifier(objective='binary:logistic', n_estimators=250, max_depth=6,\n",
    "                            reg_lambda=0, learning_rate=0.3, subsample=1,\n",
    "                            use_label_encoder=False, eval_metric='error')\n",
    "xgb_default.fit(train_X, train_y)\n",
    "\n",
    "xgb_penalty = XGBClassifier(objective='binary:logistic', n_estimators=250, max_depth=6,\n",
    "                            reg_lambda=1000, learning_rate=0.1, subsample=0.63,\n",
    "                            use_label_encoder=False, eval_metric='error')\n",
    "print(xgb_penalty.fit(train_X, train_y))"
   ]
  },
  {
   "cell_type": "code",
   "execution_count": 19,
   "id": "50bd7597",
   "metadata": {},
   "outputs": [
    {
     "name": "stdout",
     "output_type": "stream",
     "text": [
      "default (train):  0.0\n",
      "default:  0.0\n",
      "penalty:  0.0\n"
     ]
    }
   ],
   "source": [
    "pred_default = xgb_default.predict_proba(train_X)[:, 1]\n",
    "error_default = abs(train_y - pred_default) > 0.5\n",
    "print('default (train): ', np.mean(error_default))\n",
    "\n",
    "pred_default = xgb_default.predict_proba(valid_X)[:, 1]\n",
    "error_default = abs(valid_y - pred_default) > 0.5\n",
    "print('default: ', np.mean(error_default))\n",
    "\n",
    "pred_penalty = xgb_penalty.predict_proba(valid_X)[:, 1]\n",
    "error_penalty = abs(valid_y - pred_penalty) > 0.5\n",
    "print('penalty: ', np.mean(error_penalty))"
   ]
  },
  {
   "cell_type": "code",
   "execution_count": 20,
   "id": "917108c7",
   "metadata": {},
   "outputs": [
    {
     "name": "stdout",
     "output_type": "stream",
     "text": [
      "   iterations  default train  penalty train  default test  penalty test\n",
      "0           1            0.0            0.0           0.0           0.0\n",
      "1           2            0.0            0.0           0.0           0.0\n",
      "2           3            0.0            0.0           0.0           0.0\n",
      "3           4            0.0            0.0           0.0           0.0\n",
      "4           5            0.0            0.0           0.0           0.0\n"
     ]
    }
   ],
   "source": [
    "results = []\n",
    "for ntree_limit in range(1, 250):\n",
    "    train_default = xgb_default.predict_proba(train_X, iteration_range=(1, ntree_limit))[:, 1]\n",
    "    train_penalty = xgb_penalty.predict_proba(train_X, iteration_range=(1, ntree_limit))[:, 1]\n",
    "    pred_default = xgb_default.predict_proba(valid_X, iteration_range=(1, ntree_limit))[:, 1]\n",
    "    pred_penalty = xgb_penalty.predict_proba(valid_X, iteration_range=(1, ntree_limit))[:, 1]\n",
    "    results.append({\n",
    "        'iterations': ntree_limit,\n",
    "        'default train': np.mean(abs(train_y - train_default) > 0.5),\n",
    "        'penalty train': np.mean(abs(train_y - train_penalty) > 0.5),\n",
    "        'default test': np.mean(abs(valid_y - pred_default) > 0.5),\n",
    "        'penalty test': np.mean(abs(valid_y - pred_penalty) > 0.5),\n",
    "    })\n",
    "\n",
    "results = pd.DataFrame(results)\n",
    "print(results.head())"
   ]
  },
  {
   "cell_type": "code",
   "execution_count": 21,
   "id": "277242bb",
   "metadata": {},
   "outputs": [
    {
     "data": {
      "image/png": "[encoded data removed]",
      "text/plain": [
       "<Figure size 432x288 with 1 Axes>"
      ]
     },
     "metadata": {
      "needs_background": "light"
     },
     "output_type": "display_data"
    }
   ],
   "source": [
    "ax = results.plot(x='iterations', y='default test')\n",
    "results.plot(x='iterations', y='penalty test', ax=ax)\n",
    "results.plot(x='iterations', y='default train', ax=ax)\n",
    "results.plot(x='iterations', y='penalty train', ax=ax)\n",
    "plt.show()"
   ]
  },
  {
   "cell_type": "code",
   "execution_count": 22,
   "id": "69bdff13",
   "metadata": {},
   "outputs": [],
   "source": [
    "predictors = [0,  1,  2,  3,  4,  5,  6,  7,  8,  9, 10, 11, 12, 13, 14, 15, 16,\n",
    "            17, 18, 19, 20, 21, 22, 23, 24, 25, 26, 27, 28, 29, 30, 31, 32, 33,\n",
    "            34, 35, 36, 37, 38, 39, 40, 41, 42, 43, 44, 45, 46, 47, 48, 49, 50,\n",
    "            51, 52, 53, 54, 55, 56, 57, 58, 59, 60, 61, 62, 63, 64, 65, 66, 67,\n",
    "            68, 69, 70, 71, 72, 73, 74, 75, 76, 77, 78, 79, 80, 81, 82, 83, 84]\n",
    "outcome = 85\n",
    "\n",
    "X = df_data[predictors]\n",
    "y = pd.Series([1 if o == 'default' else 0 for o in df_data[outcome]])\n",
    "\n",
    "\n",
    "X_train, X_test, y_train, y_test = train_test_split(X, y, test_size=0.3, random_state=42)"
   ]
  },
  {
   "cell_type": "code",
   "execution_count": 23,
   "id": "c9365152",
   "metadata": {},
   "outputs": [
    {
     "data": {
      "text/html": [
       "<style>#sk-container-id-1 {color: black;background-color: white;}#sk-container-id-1 pre{padding: 0;}#sk-container-id-1 div.sk-toggleable {background-color: white;}#sk-container-id-1 label.sk-toggleable__label {cursor: pointer;display: block;width: 100%;margin-bottom: 0;padding: 0.3em;box-sizing: border-box;text-align: center;}#sk-container-id-1 label.sk-toggleable__label-arrow:before {content: \"▸\";float: left;margin-right: 0.25em;color: #696969;}#sk-container-id-1 label.sk-toggleable__label-arrow:hover:before {color: black;}#sk-container-id-1 div.sk-estimator:hover label.sk-toggleable__label-arrow:before {color: black;}#sk-container-id-1 div.sk-toggleable__content {max-height: 0;max-width: 0;overflow: hidden;text-align: left;background-color: #f0f8ff;}#sk-container-id-1 div.sk-toggleable__content pre {margin: 0.2em;color: black;border-radius: 0.25em;background-color: #f0f8ff;}#sk-container-id-1 input.sk-toggleable__control:checked~div.sk-toggleable__content {max-height: 200px;max-width: 100%;overflow: auto;}#sk-container-id-1 input.sk-toggleable__control:checked~label.sk-toggleable__label-arrow:before {content: \"▾\";}#sk-container-id-1 div.sk-estimator input.sk-toggleable__control:checked~label.sk-toggleable__label {background-color: #d4ebff;}#sk-container-id-1 div.sk-label input.sk-toggleable__control:checked~label.sk-toggleable__label {background-color: #d4ebff;}#sk-container-id-1 input.sk-hidden--visually {border: 0;clip: rect(1px 1px 1px 1px);clip: rect(1px, 1px, 1px, 1px);height: 1px;margin: -1px;overflow: hidden;padding: 0;position: absolute;width: 1px;}#sk-container-id-1 div.sk-estimator {font-family: monospace;background-color: #f0f8ff;border: 1px dotted black;border-radius: 0.25em;box-sizing: border-box;margin-bottom: 0.5em;}#sk-container-id-1 div.sk-estimator:hover {background-color: #d4ebff;}#sk-container-id-1 div.sk-parallel-item::after {content: \"\";width: 100%;border-bottom: 1px solid gray;flex-grow: 1;}#sk-container-id-1 div.sk-label:hover label.sk-toggleable__label {background-color: #d4ebff;}#sk-container-id-1 div.sk-serial::before {content: \"\";position: absolute;border-left: 1px solid gray;box-sizing: border-box;top: 0;bottom: 0;left: 50%;z-index: 0;}#sk-container-id-1 div.sk-serial {display: flex;flex-direction: column;align-items: center;background-color: white;padding-right: 0.2em;padding-left: 0.2em;position: relative;}#sk-container-id-1 div.sk-item {position: relative;z-index: 1;}#sk-container-id-1 div.sk-parallel {display: flex;align-items: stretch;justify-content: center;background-color: white;position: relative;}#sk-container-id-1 div.sk-item::before, #sk-container-id-1 div.sk-parallel-item::before {content: \"\";position: absolute;border-left: 1px solid gray;box-sizing: border-box;top: 0;bottom: 0;left: 50%;z-index: -1;}#sk-container-id-1 div.sk-parallel-item {display: flex;flex-direction: column;z-index: 1;position: relative;background-color: white;}#sk-container-id-1 div.sk-parallel-item:first-child::after {align-self: flex-end;width: 50%;}#sk-container-id-1 div.sk-parallel-item:last-child::after {align-self: flex-start;width: 50%;}#sk-container-id-1 div.sk-parallel-item:only-child::after {width: 0;}#sk-container-id-1 div.sk-dashed-wrapped {border: 1px dashed gray;margin: 0 0.4em 0.5em 0.4em;box-sizing: border-box;padding-bottom: 0.4em;background-color: white;}#sk-container-id-1 div.sk-label label {font-family: monospace;font-weight: bold;display: inline-block;line-height: 1.2em;}#sk-container-id-1 div.sk-label-container {text-align: center;}#sk-container-id-1 div.sk-container {/* jupyter's `normalize.less` sets `[hidden] { display: none; }` but bootstrap.min.css set `[hidden] { display: none !important; }` so we also need the `!important` here to be able to override the default hidden behavior on the sphinx rendered scikit-learn.org. See: https://github.com/scikit-learn/scikit-learn/issues/21755 */display: inline-block !important;position: relative;}#sk-container-id-1 div.sk-text-repr-fallback {display: none;}</style><div id=\"sk-container-id-1\" class=\"sk-top-container\"><div class=\"sk-text-repr-fallback\"><pre>XGBClassifier(base_score=0.5, booster=&#x27;gbtree&#x27;, callbacks=None,\n",
       "              colsample_bylevel=1, colsample_bynode=1, colsample_bytree=1,\n",
       "              early_stopping_rounds=None, enable_categorical=False,\n",
       "              eval_metric=None, gamma=0, gpu_id=-1, grow_policy=&#x27;depthwise&#x27;,\n",
       "              importance_type=None, interaction_constraints=&#x27;&#x27;,\n",
       "              learning_rate=0.300000012, max_bin=256, max_cat_to_onehot=4,\n",
       "              max_delta_step=0, max_depth=6, max_leaves=0, min_child_weight=1,\n",
       "              missing=nan, monotone_constraints=&#x27;()&#x27;, n_estimators=100,\n",
       "              n_jobs=0, num_parallel_tree=1, predictor=&#x27;auto&#x27;, random_state=0,\n",
       "              reg_alpha=0, reg_lambda=1, ...)</pre><b>In a Jupyter environment, please rerun this cell to show the HTML representation or trust the notebook. <br />On GitHub, the HTML representation is unable to render, please try loading this page with nbviewer.org.</b></div><div class=\"sk-container\" hidden><div class=\"sk-item\"><div class=\"sk-estimator sk-toggleable\"><input class=\"sk-toggleable__control sk-hidden--visually\" id=\"sk-estimator-id-1\" type=\"checkbox\" checked><label for=\"sk-estimator-id-1\" class=\"sk-toggleable__label sk-toggleable__label-arrow\">XGBClassifier</label><div class=\"sk-toggleable__content\"><pre>XGBClassifier(base_score=0.5, booster=&#x27;gbtree&#x27;, callbacks=None,\n",
       "              colsample_bylevel=1, colsample_bynode=1, colsample_bytree=1,\n",
       "              early_stopping_rounds=None, enable_categorical=False,\n",
       "              eval_metric=None, gamma=0, gpu_id=-1, grow_policy=&#x27;depthwise&#x27;,\n",
       "              importance_type=None, interaction_constraints=&#x27;&#x27;,\n",
       "              learning_rate=0.300000012, max_bin=256, max_cat_to_onehot=4,\n",
       "              max_delta_step=0, max_depth=6, max_leaves=0, min_child_weight=1,\n",
       "              missing=nan, monotone_constraints=&#x27;()&#x27;, n_estimators=100,\n",
       "              n_jobs=0, num_parallel_tree=1, predictor=&#x27;auto&#x27;, random_state=0,\n",
       "              reg_alpha=0, reg_lambda=1, ...)</pre></div></div></div></div></div>"
      ],
      "text/plain": [
       "XGBClassifier(base_score=0.5, booster='gbtree', callbacks=None,\n",
       "              colsample_bylevel=1, colsample_bynode=1, colsample_bytree=1,\n",
       "              early_stopping_rounds=None, enable_categorical=False,\n",
       "              eval_metric=None, gamma=0, gpu_id=-1, grow_policy='depthwise',\n",
       "              importance_type=None, interaction_constraints='',\n",
       "              learning_rate=0.300000012, max_bin=256, max_cat_to_onehot=4,\n",
       "              max_delta_step=0, max_depth=6, max_leaves=0, min_child_weight=1,\n",
       "              missing=nan, monotone_constraints='()', n_estimators=100,\n",
       "              n_jobs=0, num_parallel_tree=1, predictor='auto', random_state=0,\n",
       "              reg_alpha=0, reg_lambda=1, ...)"
      ]
     },
     "execution_count": 23,
     "metadata": {},
     "output_type": "execute_result"
    }
   ],
   "source": [
    "xgb = XGBClassifier(objective='binary:logistic', subsample=.63, use_label_encoder=False)\n",
    "xgb.fit(X_train, y_train)"
   ]
  },
  {
   "cell_type": "code",
   "execution_count": 24,
   "id": "8472c9e0",
   "metadata": {},
   "outputs": [],
   "source": [
    "pred = xgb.predict(X_test)"
   ]
  },
  {
   "cell_type": "code",
   "execution_count": 25,
   "id": "c92b6faa",
   "metadata": {},
   "outputs": [
    {
     "name": "stdout",
     "output_type": "stream",
     "text": [
      "                 Y = default  Y = paid off\n",
      "Yhat = default             0             0\n",
      "Yhat = paid off            0          1747\n"
     ]
    }
   ],
   "source": [
    "# Confusion matrix\n",
    "pred_y = pred == 1\n",
    "true_y = y_test == 1\n",
    "true_pos = true_y & pred_y\n",
    "true_neg = ~true_y & ~pred_y\n",
    "false_pos = ~true_y & pred_y\n",
    "false_neg = true_y & ~pred_y\n",
    "\n",
    "conf_mat = pd.DataFrame([[np.sum(true_pos), np.sum(false_neg)], [np.sum(false_pos), np.sum(true_neg)]],\n",
    "                       index=['Y = default', 'Y = paid off'],\n",
    "                       columns=['Yhat = default', 'Yhat = paid off'])\n",
    "print(conf_mat.transpose())"
   ]
  },
  {
   "cell_type": "code",
   "execution_count": 26,
   "id": "6edee046",
   "metadata": {},
   "outputs": [
    {
     "name": "stdout",
     "output_type": "stream",
     "text": [
      "[[1747]]\n"
     ]
    }
   ],
   "source": [
    "print(confusion_matrix(y_test, pred).transpose())"
   ]
  },
  {
   "cell_type": "code",
   "execution_count": 27,
   "id": "fbdb197a",
   "metadata": {},
   "outputs": [
    {
     "name": "stdout",
     "output_type": "stream",
     "text": [
      "Precision 1.0\n",
      "Recall 1.0\n"
     ]
    }
   ],
   "source": [
    "conf_mat = confusion_matrix(y_test, pred)\n",
    "print('Precision', conf_mat[0, 0] / sum(conf_mat[:, 0]))\n",
    "print('Recall', conf_mat[0, 0] / sum(conf_mat[0, :]))"
   ]
  },
  {
   "cell_type": "code",
   "execution_count": 28,
   "id": "eb0dc4d4",
   "metadata": {},
   "outputs": [
    {
     "name": "stderr",
     "output_type": "stream",
     "text": [
      "C:\\Users\\Marcos Tamas\\anaconda3\\lib\\site-packages\\sklearn\\metrics\\_ranking.py:1016: UndefinedMetricWarning: No positive samples in y_true, true positive value should be meaningless\n",
      "  warnings.warn(\n"
     ]
    }
   ],
   "source": [
    "fpr, tpr, thresholds = roc_curve(y_test, xgb.predict(X_test), \n",
    "                                 pos_label=1)\n",
    "roc_df = pd.DataFrame({'recall': tpr, 'specificity': 1 - fpr})"
   ]
  },
  {
   "cell_type": "code",
   "execution_count": 29,
   "id": "73d13a7c",
   "metadata": {},
   "outputs": [
    {
     "name": "stdout",
     "output_type": "stream",
     "text": [
      "0.5\n"
     ]
    }
   ],
   "source": [
    "auc = roc_auc_score(df_tgts, xgb.predict(df_eval))\n",
    "print(auc)"
   ]
  },
  {
   "cell_type": "code",
   "execution_count": 30,
   "id": "0e65999b",
   "metadata": {},
   "outputs": [
    {
     "data": {
      "image/png": "[encoded data removed]",
      "text/plain": [
       "<Figure size 720x720 with 1 Axes>"
      ]
     },
     "metadata": {
      "needs_background": "light"
     },
     "output_type": "display_data"
    }
   ],
   "source": [
    "ax = roc_df.plot(x='specificity', y='recall', figsize=(10, 10), legend=False)\n",
    "ax.set_ylim(0, 1)\n",
    "ax.set_xlim(1, 0)\n",
    "ax.plot((1, 0), (0, 1))\n",
    "ax.set_xlabel('specificity')\n",
    "ax.set_ylabel('recall')\n",
    "ax.fill_between(roc_df.specificity, 0, roc_df.recall, alpha=0.3)\n",
    "ax.text(.5,.5,'AUC: %.3f' % (auc*100),\n",
    "          bbox={'facecolor':'white','alpha':1,'edgecolor':'none','pad':1},\n",
    "          ha='center', va='center')\n",
    "\n",
    "\n",
    "plt.tight_layout()\n",
    "plt.show()"
   ]
  },
  {
   "cell_type": "code",
   "execution_count": 31,
   "id": "875de663",
   "metadata": {},
   "outputs": [
    {
     "name": "stdout",
     "output_type": "stream",
     "text": [
      "RandomForestClassifier(criterion='entropy', n_estimators=500, random_state=1)\n"
     ]
    }
   ],
   "source": [
    "\n",
    "predictors = [0,  1,  2,  3,  4,  5,  6,  7,  8,  9, 10, 11, 12, 13, 14, 15, 16,\n",
    "            17, 18, 19, 20, 21, 22, 23, 24, 25, 26, 27, 28, 29, 30, 31, 32, 33,\n",
    "            34, 35, 36, 37, 38, 39, 40, 41, 42, 43, 44, 45, 46, 47, 48, 49, 50,\n",
    "            51, 52, 53, 54, 55, 56, 57, 58, 59, 60, 61, 62, 63, 64, 65, 66, 67,\n",
    "            68, 69, 70, 71, 72, 73, 74, 75, 76, 77, 78, 79, 80, 81, 82, 83, 84]\n",
    "outcome = 85\n",
    "\n",
    "X = pd.get_dummies(df_data[predictors], drop_first=True)\n",
    "y = df_data[outcome]\n",
    "\n",
    "rf_all = RandomForestClassifier(n_estimators=500, random_state=1)\n",
    "rf_all.fit(X, y)\n",
    "\n",
    "rf_all_entropy = RandomForestClassifier(n_estimators=500, random_state=1,\n",
    "                                        criterion='entropy')\n",
    "print(rf_all_entropy.fit(X, y))\n"
   ]
  },
  {
   "cell_type": "code",
   "execution_count": 32,
   "id": "8ac21240",
   "metadata": {},
   "outputs": [
    {
     "name": "stdout",
     "output_type": "stream",
     "text": [
      "Features sorted by their score:\n",
      "[(0.0002, 81), (0.0002, 74), (0.0002, 60), (0.0002, 54), (0.0002, 53), (0.0002, 1), (0.0, 83), (0.0, 82), (0.0, 80), (0.0, 78), (0.0, 77), (0.0, 76), (0.0, 73), (0.0, 72), (0.0, 71), (0.0, 70), (0.0, 69), (0.0, 68), (0.0, 66), (0.0, 65), (0.0, 62), (0.0, 61), (0.0, 59), (0.0, 57), (0.0, 56), (0.0, 55), (0.0, 52), (0.0, 51), (0.0, 50), (0.0, 49), (0.0, 47), (0.0, 45), (0.0, 44), (-0.0002, 84), (-0.0004, 75), (-0.0004, 63), (-0.0004, 48), (-0.0004, 20), (-0.0004, 19), (-0.0006, 40), (-0.0008, 43), (-0.001, 2), (-0.0012, 64), (-0.0012, 24), (-0.0014, 5), (-0.0014, 3), (-0.0016, 26), (-0.0016, 15), (-0.0016, 10), (-0.0018, 7), (-0.0019, 39), (-0.0019, 12), (-0.0019, 11), (-0.0021, 33), (-0.0021, 31), (-0.0021, 28), (-0.0021, 25), (-0.0021, 18), (-0.0021, 14), (-0.0023, 37), (-0.0025, 79), (-0.0025, 34), (-0.0025, 32), (-0.0025, 9), (-0.0029, 16), (-0.0029, 13), (-0.0031, 42), (-0.0031, 41), (-0.0031, 36), (-0.0031, 35), (-0.0031, 23), (-0.0033, 38), (-0.0033, 30), (-0.0033, 6), (-0.0035, 67), (-0.0035, 29), (-0.0035, 27), (-0.0035, 22), (-0.0035, 21), (-0.0035, 8), (-0.0037, 46), (-0.0037, 4), (-0.0043, 17), (-0.0047, 58), (-0.0062, 0)]\n"
     ]
    }
   ],
   "source": [
    "rf = RandomForestClassifier(n_estimators=500)\n",
    "scores = defaultdict(list)\n",
    " \n",
    "# crossvalidate the scores on a number of different random splits of the data\n",
    "for _ in range(3):\n",
    "    train_X, valid_X, train_y, valid_y = train_test_split(X, y, \n",
    "                                                          test_size=0.3)\n",
    "    rf.fit(train_X, train_y)\n",
    "    acc = metrics.accuracy_score(valid_y, rf.predict(valid_X))\n",
    "    for column in X.columns:\n",
    "        X_t = valid_X.copy()\n",
    "        X_t[column] = np.random.permutation(X_t[column].values)\n",
    "        shuff_acc = metrics.accuracy_score(valid_y, rf.predict(X_t))\n",
    "        scores[column].append((acc-shuff_acc)/acc)\n",
    "print('Features sorted by their score:')\n",
    "print(sorted([(round(np.mean(score), 4), feat) for\n",
    "              feat, score in scores.items()], reverse=True))"
   ]
  },
  {
   "cell_type": "code",
   "execution_count": 33,
   "id": "e1eb921c",
   "metadata": {},
   "outputs": [
    {
     "data": {
      "image/png": "[encoded data removed]",
      "text/plain": [
       "<Figure size 720x720 with 2 Axes>"
      ]
     },
     "metadata": {
      "needs_background": "light"
     },
     "output_type": "display_data"
    }
   ],
   "source": [
    "importances = rf_all.feature_importances_\n",
    "\n",
    "df = pd.DataFrame({\n",
    "    'feature': X.columns, \n",
    "    'Accuracy decrease': [np.mean(scores[column]) for column in \n",
    "                         X.columns],\n",
    "    'Gini decrease': rf_all.feature_importances_, \n",
    "    'Entropy decrease': rf_all_entropy.feature_importances_,\n",
    "})\n",
    "df = df.sort_values('Accuracy decrease')\n",
    "\n",
    "fig, axes = plt.subplots(ncols=2, figsize=(10, 10))\n",
    "ax = df.plot(kind='barh', x='feature', y='Accuracy decrease', \n",
    "             legend=False, ax=axes[0])\n",
    "ax.set_ylabel('')\n",
    "\n",
    "ax = df.plot(kind='barh', x='feature', y='Gini decrease', \n",
    "             legend=False, ax=axes[1])\n",
    "ax.set_ylabel('')\n",
    "ax.get_yaxis().set_visible(False)\n",
    "\n",
    "plt.tight_layout()\n",
    "plt.show()"
   ]
  },
  {
   "cell_type": "code",
   "execution_count": null,
   "id": "ef291062",
   "metadata": {},
   "outputs": [],
   "source": []
  }
 ],
 "metadata": {
  "kernelspec": {
   "display_name": "Python 3 (ipykernel)",
   "language": "python",
   "name": "python3"
  },
  "language_info": {
   "codemirror_mode": {
    "name": "ipython",
    "version": 3
   },
   "file_extension": ".py",
   "mimetype": "text/x-python",
   "name": "python",
   "nbconvert_exporter": "python",
   "pygments_lexer": "ipython3",
   "version": "3.9.7"
  }
 },
 "nbformat": 4,
 "nbformat_minor": 5
}
