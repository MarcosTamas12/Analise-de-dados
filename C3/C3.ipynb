{
 "cells": [
  {
   "cell_type": "markdown",
   "id": "04c515c5",
   "metadata": {},
   "source": [
    "<h1>Atividade Analise de dados - C3</h1>\n",
    "<h2>Professor Howard Roati</h2>\n",
    "\n",
    "<h3>Integrantes:</h3>\n",
    "<h4>\n",
    "Jair Batista <br>\n",
    "Marcos Tamas<br>\n",
    "Otto Pinheiro <br>\n",
    "Paulo Cavalieri <br>\n",
    "</h4>"
   ]
  },
  {
   "cell_type": "markdown",
   "id": "67b59396",
   "metadata": {},
   "source": [
    "<h1>Importando bibliotecas</h1>"
   ]
  },
  {
   "cell_type": "markdown",
   "id": "1f89a23b",
   "metadata": {},
   "source": [
    "#Bibliotecas instaladas\n",
    "\n",
    "!pip install imbalanced-learn <br>\n",
    "!pip install xgboost"
   ]
  },
  {
   "cell_type": "code",
   "execution_count": 1,
   "id": "602c5ca4",
   "metadata": {},
   "outputs": [],
   "source": [
    "import statistics as st\n",
    "import numpy as np\n",
    "import pandas as pd\n",
    "from scipy.stats import variation\n",
    "import matplotlib.pylab as plt\n",
    "from sklearn import preprocessing\n",
    "from sklearn.naive_bayes import MultinomialNB\n",
    "from sklearn.linear_model import LogisticRegression\n",
    "from sklearn.metrics import recall_score\n",
    "from sklearn.metrics import precision_score\n",
    "from sklearn import metrics\n",
    "from sklearn.metrics import roc_curve, accuracy_score, roc_auc_score\n",
    "from sklearn.metrics import confusion_matrix, precision_recall_fscore_support, auc, classification_report\n",
    "                            \n",
    "from sklearn.model_selection import train_test_split\n",
    "from sklearn.linear_model import LinearRegression\n",
    "from sklearn.metrics import r2_score\n",
    "import seaborn as sn\n",
    "from sklearn import svm\n",
    "from sklearn.model_selection import cross_val_score\n",
    "from sklearn.utils import resample\n",
    "from sklearn.datasets import make_classification\n",
    "from dmba import plotDecisionTree, textDecisionTree\n",
    "from sklearn.tree import DecisionTreeClassifier\n",
    "import math\n",
    "\n",
    "from sklearn import preprocessing\n",
    "from sklearn.neighbors import KNeighborsClassifier\n",
    "\n",
    "from sklearn.tree import DecisionTreeClassifier\n",
    "from sklearn.ensemble import RandomForestClassifier\n",
    "from itertools import zip_longest\n",
    "from matplotlib.patches import Ellipse\n",
    "from sklearn.model_selection import GridSearchCV\n",
    "from sklearn.linear_model import Lasso\n",
    "\n",
    "from sklearn.model_selection import cross_validate\n",
    "from imblearn.under_sampling import RandomUnderSampler\n",
    "import os\n",
    "import random\n",
    "from collections import defaultdict\n",
    "from itertools import product\n",
    "from xgboost import XGBClassifier\n",
    "from sklearn.model_selection import RandomizedSearchCV"
   ]
  },
  {
   "cell_type": "code",
   "execution_count": 32,
   "id": "57d6e730",
   "metadata": {},
   "outputs": [],
   "source": [
    "#Importação de datasets\n",
    "df_data = pd.read_csv('ticdata2000.txt',sep='\\t', header = None)\n",
    "df_eval = pd.read_csv('ticeval2000.txt',sep='\\t', header = None)\n",
    "df_tgts = pd.read_csv('tictgts2000.txt',sep='\\t', header = None)\n"
   ]
  },
  {
   "cell_type": "markdown",
   "id": "19ce6c80",
   "metadata": {},
   "source": [
    "# Analise exploratória de dados"
   ]
  },
  {
   "cell_type": "code",
   "execution_count": 33,
   "id": "f26f22f9",
   "metadata": {
    "scrolled": false
   },
   "outputs": [
    {
     "data": {
      "text/html": [
       "<div>\n",
       "<style scoped>\n",
       "    .dataframe tbody tr th:only-of-type {\n",
       "        vertical-align: middle;\n",
       "    }\n",
       "\n",
       "    .dataframe tbody tr th {\n",
       "        vertical-align: top;\n",
       "    }\n",
       "\n",
       "    .dataframe thead th {\n",
       "        text-align: right;\n",
       "    }\n",
       "</style>\n",
       "<table border=\"1\" class=\"dataframe\">\n",
       "  <thead>\n",
       "    <tr style=\"text-align: right;\">\n",
       "      <th></th>\n",
       "      <th>count</th>\n",
       "      <th>mean</th>\n",
       "      <th>std</th>\n",
       "      <th>min</th>\n",
       "      <th>25%</th>\n",
       "      <th>50%</th>\n",
       "      <th>75%</th>\n",
       "      <th>max</th>\n",
       "    </tr>\n",
       "  </thead>\n",
       "  <tbody>\n",
       "    <tr>\n",
       "      <th>0</th>\n",
       "      <td>5822.0</td>\n",
       "      <td>24.253349</td>\n",
       "      <td>12.846706</td>\n",
       "      <td>1.0</td>\n",
       "      <td>10.0</td>\n",
       "      <td>30.0</td>\n",
       "      <td>35.0</td>\n",
       "      <td>41.0</td>\n",
       "    </tr>\n",
       "    <tr>\n",
       "      <th>1</th>\n",
       "      <td>5822.0</td>\n",
       "      <td>1.110615</td>\n",
       "      <td>0.405842</td>\n",
       "      <td>1.0</td>\n",
       "      <td>1.0</td>\n",
       "      <td>1.0</td>\n",
       "      <td>1.0</td>\n",
       "      <td>10.0</td>\n",
       "    </tr>\n",
       "    <tr>\n",
       "      <th>2</th>\n",
       "      <td>5822.0</td>\n",
       "      <td>2.678805</td>\n",
       "      <td>0.789835</td>\n",
       "      <td>1.0</td>\n",
       "      <td>2.0</td>\n",
       "      <td>3.0</td>\n",
       "      <td>3.0</td>\n",
       "      <td>5.0</td>\n",
       "    </tr>\n",
       "    <tr>\n",
       "      <th>3</th>\n",
       "      <td>5822.0</td>\n",
       "      <td>2.991240</td>\n",
       "      <td>0.814589</td>\n",
       "      <td>1.0</td>\n",
       "      <td>2.0</td>\n",
       "      <td>3.0</td>\n",
       "      <td>3.0</td>\n",
       "      <td>6.0</td>\n",
       "    </tr>\n",
       "    <tr>\n",
       "      <th>4</th>\n",
       "      <td>5822.0</td>\n",
       "      <td>5.773617</td>\n",
       "      <td>2.856760</td>\n",
       "      <td>1.0</td>\n",
       "      <td>3.0</td>\n",
       "      <td>7.0</td>\n",
       "      <td>8.0</td>\n",
       "      <td>10.0</td>\n",
       "    </tr>\n",
       "    <tr>\n",
       "      <th>...</th>\n",
       "      <td>...</td>\n",
       "      <td>...</td>\n",
       "      <td>...</td>\n",
       "      <td>...</td>\n",
       "      <td>...</td>\n",
       "      <td>...</td>\n",
       "      <td>...</td>\n",
       "      <td>...</td>\n",
       "    </tr>\n",
       "    <tr>\n",
       "      <th>81</th>\n",
       "      <td>5822.0</td>\n",
       "      <td>0.006012</td>\n",
       "      <td>0.081632</td>\n",
       "      <td>0.0</td>\n",
       "      <td>0.0</td>\n",
       "      <td>0.0</td>\n",
       "      <td>0.0</td>\n",
       "      <td>2.0</td>\n",
       "    </tr>\n",
       "    <tr>\n",
       "      <th>82</th>\n",
       "      <td>5822.0</td>\n",
       "      <td>0.031776</td>\n",
       "      <td>0.210986</td>\n",
       "      <td>0.0</td>\n",
       "      <td>0.0</td>\n",
       "      <td>0.0</td>\n",
       "      <td>0.0</td>\n",
       "      <td>3.0</td>\n",
       "    </tr>\n",
       "    <tr>\n",
       "      <th>83</th>\n",
       "      <td>5822.0</td>\n",
       "      <td>0.007901</td>\n",
       "      <td>0.090463</td>\n",
       "      <td>0.0</td>\n",
       "      <td>0.0</td>\n",
       "      <td>0.0</td>\n",
       "      <td>0.0</td>\n",
       "      <td>2.0</td>\n",
       "    </tr>\n",
       "    <tr>\n",
       "      <th>84</th>\n",
       "      <td>5822.0</td>\n",
       "      <td>0.014256</td>\n",
       "      <td>0.119996</td>\n",
       "      <td>0.0</td>\n",
       "      <td>0.0</td>\n",
       "      <td>0.0</td>\n",
       "      <td>0.0</td>\n",
       "      <td>2.0</td>\n",
       "    </tr>\n",
       "    <tr>\n",
       "      <th>85</th>\n",
       "      <td>5822.0</td>\n",
       "      <td>0.059773</td>\n",
       "      <td>0.237087</td>\n",
       "      <td>0.0</td>\n",
       "      <td>0.0</td>\n",
       "      <td>0.0</td>\n",
       "      <td>0.0</td>\n",
       "      <td>1.0</td>\n",
       "    </tr>\n",
       "  </tbody>\n",
       "</table>\n",
       "<p>86 rows × 8 columns</p>\n",
       "</div>"
      ],
      "text/plain": [
       "     count       mean        std  min   25%   50%   75%   max\n",
       "0   5822.0  24.253349  12.846706  1.0  10.0  30.0  35.0  41.0\n",
       "1   5822.0   1.110615   0.405842  1.0   1.0   1.0   1.0  10.0\n",
       "2   5822.0   2.678805   0.789835  1.0   2.0   3.0   3.0   5.0\n",
       "3   5822.0   2.991240   0.814589  1.0   2.0   3.0   3.0   6.0\n",
       "4   5822.0   5.773617   2.856760  1.0   3.0   7.0   8.0  10.0\n",
       "..     ...        ...        ...  ...   ...   ...   ...   ...\n",
       "81  5822.0   0.006012   0.081632  0.0   0.0   0.0   0.0   2.0\n",
       "82  5822.0   0.031776   0.210986  0.0   0.0   0.0   0.0   3.0\n",
       "83  5822.0   0.007901   0.090463  0.0   0.0   0.0   0.0   2.0\n",
       "84  5822.0   0.014256   0.119996  0.0   0.0   0.0   0.0   2.0\n",
       "85  5822.0   0.059773   0.237087  0.0   0.0   0.0   0.0   1.0\n",
       "\n",
       "[86 rows x 8 columns]"
      ]
     },
     "execution_count": 33,
     "metadata": {},
     "output_type": "execute_result"
    }
   ],
   "source": [
    "df_data.describe().T"
   ]
  },
  {
   "cell_type": "code",
   "execution_count": 35,
   "id": "748a47e3",
   "metadata": {
    "scrolled": false
   },
   "outputs": [
    {
     "data": {
      "text/plain": [
       "Text(0.5, 1.0, 'Variancia dos dados de acordo com seu atributo')"
      ]
     },
     "execution_count": 35,
     "metadata": {},
     "output_type": "execute_result"
    },
    {
     "data": {
      "image/png": "[encoded data removed]",
      "text/plain": [
       "<Figure size 1080x360 with 1 Axes>"
      ]
     },
     "metadata": {
      "needs_background": "light"
     },
     "output_type": "display_data"
    }
   ],
   "source": [
    "df_apolice_var = df_data[[1,  2,  3,  4,  5,  6,  7,  8,  9, 10, 11, 12, 13, 14, 15, 16,\n",
    "            17, 18, 19, 20, 21, 22, 23, 24, 25, 26, 27, 28, 29, 30, 31, 32, 33,\n",
    "            34, 35, 36, 37, 38, 39, 40, 41, 42, 43, 44, 45, 46, 47, 48, 49, 50,\n",
    "            51, 52, 53, 54, 55, 56, 57, 58, 59, 60, 61, 62, 63, 64, 65, 66, 67,\n",
    "            68, 69, 70, 71, 72, 73, 74, 75, 76, 77, 78, 79, 80, 81, 82, 83, 84,85]].var().copy()\n",
    "df_apolice_var.plot.bar(figsize=(15,5))\n",
    "plt.title('Variancia dos dados de acordo com seu atributo')"
   ]
  },
  {
   "cell_type": "markdown",
   "id": "b3baa1ff",
   "metadata": {},
   "source": [
    "## Análise de Seguros"
   ]
  },
  {
   "cell_type": "code",
   "execution_count": 5,
   "id": "8b8721cd",
   "metadata": {
    "scrolled": false
   },
   "outputs": [
    {
     "data": {
      "text/plain": [
       "Text(0.5, 1.0, 'Quantidade de apólices adquiridas por tipo')"
      ]
     },
     "execution_count": 5,
     "metadata": {},
     "output_type": "execute_result"
    },
    {
     "data": {
      "image/png": "[encoded data removed]",
      "text/plain": [
       "<Figure size 1080x360 with 1 Axes>"
      ]
     },
     "metadata": {
      "needs_background": "light"
     },
     "output_type": "display_data"
    }
   ],
   "source": [
    "df_apolice = df_data[[64,65,66,67,68,69,70,71,72,73,74,75,76,78,79,80,81,82,83,84,85]].copy()\n",
    "df_apolice.agg(np.sum).plot.bar(figsize=(15,5))\n",
    "plt.title('Quantidade de apólices adquiridas por tipo')"
   ]
  },
  {
   "cell_type": "markdown",
   "id": "34a6ad3b",
   "metadata": {},
   "source": [
    "## As três apólices mais vendidas e apolice que será utilizada em nossa previsão.\n"
   ]
  },
  {
   "cell_type": "code",
   "execution_count": 6,
   "id": "2ade8533",
   "metadata": {
    "scrolled": false
   },
   "outputs": [
    {
     "name": "stdout",
     "output_type": "stream",
     "text": [
      "Quantidade de Apólices de seguro previdenciário de contribuição: 2346\n",
      "Quantidade de Apólices de seguro de terceiros (agricultura): 3273\n",
      "Quantidade de Apólices de seguro de invalidez: 3319\n",
      "\n",
      "Quantidade de Apólices de casas (dado que precisaremos prever): 348\n"
     ]
    }
   ],
   "source": [
    "print(f'Quantidade de Apólices de seguro previdenciário de contribuição: {df_data[64].sum()}')\n",
    "print(f'Quantidade de Apólices de seguro de terceiros (agricultura): {df_data[67].sum()}')\n",
    "print(f'Quantidade de Apólices de seguro de invalidez: {df_data[79].sum()}')\n",
    "print('')\n",
    "print(f'Quantidade de Apólices de casas (dado que precisaremos prever): {df_data[85].sum()}')"
   ]
  },
  {
   "cell_type": "code",
   "execution_count": 7,
   "id": "b6dcf015",
   "metadata": {
    "scrolled": false
   },
   "outputs": [
    {
     "name": "stdout",
     "output_type": "stream",
     "text": [
      "\n",
      "1 20-30 anos    4 50-60 anos\n",
      "\n",
      "2 30-40 anos    5 60-70 anos\n",
      "\n",
      "3 40-50 anos    6 70-80 anos\n",
      "\n"
     ]
    },
    {
     "data": {
      "image/png": "[encoded data removed]",
      "text/plain": [
       "<Figure size 432x288 with 1 Axes>"
      ]
     },
     "metadata": {
      "needs_background": "light"
     },
     "output_type": "display_data"
    }
   ],
   "source": [
    "plt.hist(df_data[[3]])\n",
    "str = \"\"\"\n",
    "1 20-30 anos    4 50-60 anos\n",
    "\n",
    "2 30-40 anos    5 60-70 anos\n",
    "\n",
    "3 40-50 anos    6 70-80 anos\n",
    "\"\"\"\n",
    "print(str)"
   ]
  },
  {
   "cell_type": "markdown",
   "id": "7d0d15f6",
   "metadata": {},
   "source": [
    "## Quantidade de apólices por classes de idade"
   ]
  },
  {
   "cell_type": "code",
   "execution_count": 8,
   "id": "01dac731",
   "metadata": {
    "scrolled": true
   },
   "outputs": [
    {
     "data": {
      "text/html": [
       "<div>\n",
       "<style scoped>\n",
       "    .dataframe tbody tr th:only-of-type {\n",
       "        vertical-align: middle;\n",
       "    }\n",
       "\n",
       "    .dataframe tbody tr th {\n",
       "        vertical-align: top;\n",
       "    }\n",
       "\n",
       "    .dataframe thead th {\n",
       "        text-align: right;\n",
       "    }\n",
       "</style>\n",
       "<table border=\"1\" class=\"dataframe\">\n",
       "  <thead>\n",
       "    <tr style=\"text-align: right;\">\n",
       "      <th></th>\n",
       "      <th>64</th>\n",
       "      <th>67</th>\n",
       "      <th>79</th>\n",
       "    </tr>\n",
       "    <tr>\n",
       "      <th>3</th>\n",
       "      <th></th>\n",
       "      <th></th>\n",
       "      <th></th>\n",
       "    </tr>\n",
       "  </thead>\n",
       "  <tbody>\n",
       "    <tr>\n",
       "      <th>1</th>\n",
       "      <td>35</td>\n",
       "      <td>34</td>\n",
       "      <td>37</td>\n",
       "    </tr>\n",
       "    <tr>\n",
       "      <th>2</th>\n",
       "      <td>634</td>\n",
       "      <td>832</td>\n",
       "      <td>830</td>\n",
       "    </tr>\n",
       "    <tr>\n",
       "      <th>3</th>\n",
       "      <td>1145</td>\n",
       "      <td>1695</td>\n",
       "      <td>1678</td>\n",
       "    </tr>\n",
       "    <tr>\n",
       "      <th>4</th>\n",
       "      <td>430</td>\n",
       "      <td>607</td>\n",
       "      <td>630</td>\n",
       "    </tr>\n",
       "    <tr>\n",
       "      <th>5</th>\n",
       "      <td>86</td>\n",
       "      <td>96</td>\n",
       "      <td>122</td>\n",
       "    </tr>\n",
       "    <tr>\n",
       "      <th>6</th>\n",
       "      <td>16</td>\n",
       "      <td>9</td>\n",
       "      <td>22</td>\n",
       "    </tr>\n",
       "  </tbody>\n",
       "</table>\n",
       "</div>"
      ],
      "text/plain": [
       "     64    67    79\n",
       "3                  \n",
       "1    35    34    37\n",
       "2   634   832   830\n",
       "3  1145  1695  1678\n",
       "4   430   607   630\n",
       "5    86    96   122\n",
       "6    16     9    22"
      ]
     },
     "metadata": {},
     "output_type": "display_data"
    }
   ],
   "source": [
    "df_age = df_data.groupby(3)[[64,67,79]].agg(np.sum)\n",
    "display(df_age)"
   ]
  },
  {
   "cell_type": "code",
   "execution_count": 9,
   "id": "3767c480",
   "metadata": {
    "scrolled": true
   },
   "outputs": [
    {
     "data": {
      "text/plain": [
       "<AxesSubplot:xlabel='3'>"
      ]
     },
     "execution_count": 9,
     "metadata": {},
     "output_type": "execute_result"
    },
    {
     "data": {
      "image/png": "[encoded data removed]",
      "text/plain": [
       "<Figure size 432x288 with 1 Axes>"
      ]
     },
     "metadata": {
      "needs_background": "light"
     },
     "output_type": "display_data"
    }
   ],
   "source": [
    "df_age.plot.bar()"
   ]
  },
  {
   "cell_type": "code",
   "execution_count": 10,
   "id": "3b65d910",
   "metadata": {
    "scrolled": true
   },
   "outputs": [
    {
     "data": {
      "text/html": [
       "<div>\n",
       "<style scoped>\n",
       "    .dataframe tbody tr th:only-of-type {\n",
       "        vertical-align: middle;\n",
       "    }\n",
       "\n",
       "    .dataframe tbody tr th {\n",
       "        vertical-align: top;\n",
       "    }\n",
       "\n",
       "    .dataframe thead th {\n",
       "        text-align: right;\n",
       "    }\n",
       "</style>\n",
       "<table border=\"1\" class=\"dataframe\">\n",
       "  <thead>\n",
       "    <tr style=\"text-align: right;\">\n",
       "      <th></th>\n",
       "      <th>3</th>\n",
       "      <th>79</th>\n",
       "    </tr>\n",
       "  </thead>\n",
       "  <tbody>\n",
       "    <tr>\n",
       "      <th>3</th>\n",
       "      <td>1.000000</td>\n",
       "      <td>0.024417</td>\n",
       "    </tr>\n",
       "    <tr>\n",
       "      <th>79</th>\n",
       "      <td>0.024417</td>\n",
       "      <td>1.000000</td>\n",
       "    </tr>\n",
       "  </tbody>\n",
       "</table>\n",
       "</div>"
      ],
      "text/plain": [
       "          3         79\n",
       "3   1.000000  0.024417\n",
       "79  0.024417  1.000000"
      ]
     },
     "execution_count": 10,
     "metadata": {},
     "output_type": "execute_result"
    }
   ],
   "source": [
    "df_corr = df_data[[3,79]].copy()\n",
    "df_corr.corr()"
   ]
  },
  {
   "cell_type": "markdown",
   "id": "11586579",
   "metadata": {},
   "source": [
    "## Análise de Classe Social"
   ]
  },
  {
   "cell_type": "code",
   "execution_count": 11,
   "id": "465b020d",
   "metadata": {
    "scrolled": true
   },
   "outputs": [
    {
     "data": {
      "text/plain": [
       "Text(0.5, 1.0, 'Classe social D')"
      ]
     },
     "execution_count": 11,
     "metadata": {},
     "output_type": "execute_result"
    },
    {
     "data": {
      "image/png": "[encoded data removed]",
      "text/plain": [
       "<Figure size 1080x288 with 5 Axes>"
      ]
     },
     "metadata": {
      "needs_background": "light"
     },
     "output_type": "display_data"
    }
   ],
   "source": [
    "fig, (ax1, ax2, ax3, ax4, ax5) = plt.subplots(1,5, figsize=(15,4))\n",
    "\n",
    "fig.suptitle('Classes Sociais')\n",
    "\n",
    "ax1.hist(df_data[24])\n",
    "ax1.set_title('Classe social A')\n",
    "ax2.hist(df_data[25])\n",
    "ax2.set_title('Classe social B1')\n",
    "ax3.hist(df_data[26])\n",
    "ax3.set_title('Classe social B2')\n",
    "ax4.hist(df_data[27])\n",
    "ax4.set_title('Classe social C')\n",
    "ax5.hist(df_data[28])\n",
    "ax5.set_title('Classe social D')"
   ]
  },
  {
   "cell_type": "code",
   "execution_count": 12,
   "id": "07b61f57",
   "metadata": {
    "scrolled": false
   },
   "outputs": [
    {
     "data": {
      "image/png": "[encoded data removed]",
      "text/plain": [
       "<Figure size 1080x360 with 1 Axes>"
      ]
     },
     "metadata": {
      "needs_background": "light"
     },
     "output_type": "display_data"
    }
   ],
   "source": [
    "boxplot = df_data.boxplot(column=[24,25,26,27,28], figsize=(15,5))\n",
    "plt.show()"
   ]
  },
  {
   "cell_type": "markdown",
   "id": "bfe51cb4",
   "metadata": {},
   "source": [
    "# Correlação entre classe social, idade e contrantação de apolice de cas"
   ]
  },
  {
   "cell_type": "code",
   "execution_count": 13,
   "id": "afe8dbfa",
   "metadata": {
    "scrolled": true
   },
   "outputs": [
    {
     "data": {
      "image/png": "[encoded data removed]",
      "text/plain": [
       "<Figure size 432x288 with 2 Axes>"
      ]
     },
     "metadata": {
      "needs_background": "light"
     },
     "output_type": "display_data"
    }
   ],
   "source": [
    "df_corr = df_data[[85,24,25,26,27,28,64,67,79]]\n",
    "correlation = df_corr.corr()\n",
    "plot = sn.heatmap(correlation, annot = True, fmt=\".1f\", linewidths=.6)"
   ]
  },
  {
   "cell_type": "markdown",
   "id": "cc63b64f",
   "metadata": {},
   "source": [
    "## Análise de Renda"
   ]
  },
  {
   "cell_type": "code",
   "execution_count": 14,
   "id": "707e877d",
   "metadata": {
    "scrolled": true
   },
   "outputs": [
    {
     "data": {
      "text/plain": [
       "Text(0.5, 1.0, 'Renda > 123.000')"
      ]
     },
     "execution_count": 14,
     "metadata": {},
     "output_type": "execute_result"
    },
    {
     "data": {
      "image/png": "[encoded data removed]",
      "text/plain": [
       "<Figure size 1080x288 with 5 Axes>"
      ]
     },
     "metadata": {
      "needs_background": "light"
     },
     "output_type": "display_data"
    }
   ],
   "source": [
    "fig, (ax1, ax2, ax3, ax4, ax5) = plt.subplots(1,5, figsize=(15,4))\n",
    "\n",
    "fig.suptitle('Rendas')\n",
    "\n",
    "ax1.hist(df_data[36])\n",
    "ax1.set_title('Renda < 30.000')\n",
    "ax2.hist(df_data[37])\n",
    "ax2.set_title('Renda 30-45.000')\n",
    "ax3.hist(df_data[38])\n",
    "ax3.set_title('Renda 45-75.000')\n",
    "ax4.hist(df_data[39])\n",
    "ax4.set_title('Renda 75-122.000')\n",
    "ax5.hist(df_data[40])\n",
    "ax5.set_title('Renda > 123.000')"
   ]
  },
  {
   "cell_type": "code",
   "execution_count": 15,
   "id": "32992977",
   "metadata": {
    "scrolled": true
   },
   "outputs": [
    {
     "data": {
      "image/png": "[encoded data removed]",
      "text/plain": [
       "<Figure size 1080x360 with 1 Axes>"
      ]
     },
     "metadata": {
      "needs_background": "light"
     },
     "output_type": "display_data"
    }
   ],
   "source": [
    "boxplot = df_data.boxplot(column=[36,37,38,39,40], figsize=(15,5))\n",
    "plt.show()"
   ]
  },
  {
   "cell_type": "code",
   "execution_count": 16,
   "id": "d92a02b0",
   "metadata": {
    "scrolled": true
   },
   "outputs": [
    {
     "data": {
      "image/png": "[encoded data removed]",
      "text/plain": [
       "<Figure size 432x288 with 1 Axes>"
      ]
     },
     "metadata": {
      "needs_background": "light"
     },
     "output_type": "display_data"
    }
   ],
   "source": [
    "df_sum_renda = df_data[36].append(df_data[37])\n",
    "df_sum_renda = df_sum_renda.append(df_data[38])\n",
    "df_sum_renda = df_sum_renda.append(df_data[39])\n",
    "df_sum_renda = df_sum_renda.append(df_data[40])\n",
    "plt.boxplot(df_sum_renda)\n",
    "plt.title(\"Renda Geral\")\n",
    "plt.show()"
   ]
  },
  {
   "cell_type": "markdown",
   "id": "0a7b47f7",
   "metadata": {},
   "source": [
    "## Correlação entre classe social, renda e contratação de apolice de casa"
   ]
  },
  {
   "cell_type": "code",
   "execution_count": 17,
   "id": "6cd5f636",
   "metadata": {
    "scrolled": true
   },
   "outputs": [
    {
     "data": {
      "image/png": "[encoded data removed]",
      "text/plain": [
       "<Figure size 432x288 with 2 Axes>"
      ]
     },
     "metadata": {
      "needs_background": "light"
     },
     "output_type": "display_data"
    }
   ],
   "source": [
    "df_corr = df_data[[85,24,25,26,27,28,36,37,38,39,40]]\n",
    "correlation = df_corr.corr()\n",
    "plot = sn.heatmap(correlation, annot = True, fmt=\".1f\", linewidths=.6)"
   ]
  },
  {
   "cell_type": "markdown",
   "id": "e9d2d374",
   "metadata": {},
   "source": [
    "## Correlação entre renda e as 3 apólices mais vendidas"
   ]
  },
  {
   "cell_type": "code",
   "execution_count": 18,
   "id": "90b59045",
   "metadata": {
    "scrolled": true
   },
   "outputs": [
    {
     "data": {
      "image/png": "[encoded data removed]",
      "text/plain": [
       "<Figure size 432x288 with 2 Axes>"
      ]
     },
     "metadata": {
      "needs_background": "light"
     },
     "output_type": "display_data"
    }
   ],
   "source": [
    "df_corr = df_data[[36,37,38,39,40,64,67,79]]\n",
    "correlation = df_corr.corr()\n",
    "plot = sn.heatmap(correlation, annot = True, fmt=\".1f\", linewidths=.6)"
   ]
  },
  {
   "cell_type": "markdown",
   "id": "2a6b9557",
   "metadata": {},
   "source": [
    "## Análise Nivel de Escolariedade"
   ]
  },
  {
   "cell_type": "code",
   "execution_count": 19,
   "id": "2bb88bd4",
   "metadata": {
    "scrolled": false
   },
   "outputs": [
    {
     "data": {
      "text/plain": [
       "Text(0.5, 1.0, 'Educação de Nível Superior')"
      ]
     },
     "execution_count": 19,
     "metadata": {},
     "output_type": "execute_result"
    },
    {
     "data": {
      "image/png": "[encoded data removed]",
      "text/plain": [
       "<Figure size 1080x288 with 3 Axes>"
      ]
     },
     "metadata": {
      "needs_background": "light"
     },
     "output_type": "display_data"
    }
   ],
   "source": [
    "fig, (ax1, ax2, ax3) = plt.subplots(1,3, figsize=(15,4))\n",
    "\n",
    "fig.suptitle('Ninel de Escolariedade')\n",
    "\n",
    "ax1.hist(df_data[15])\n",
    "ax1.set_title('Educação de Nível Inferior')\n",
    "ax2.hist(df_data[16])\n",
    "ax2.set_title('Educação de Nível Médio')\n",
    "ax3.hist(df_data[17])\n",
    "ax3.set_title('Educação de Nível Superior')"
   ]
  },
  {
   "cell_type": "code",
   "execution_count": 20,
   "id": "37ca9ef3",
   "metadata": {
    "scrolled": true
   },
   "outputs": [
    {
     "data": {
      "image/png": "[encoded data removed]",
      "text/plain": [
       "<Figure size 1080x360 with 1 Axes>"
      ]
     },
     "metadata": {
      "needs_background": "light"
     },
     "output_type": "display_data"
    }
   ],
   "source": [
    "boxplot = df_data.boxplot(column=[15,16,17], figsize=(15,5))\n",
    "plt.show()"
   ]
  },
  {
   "cell_type": "markdown",
   "id": "03ed42bd",
   "metadata": {},
   "source": [
    "## Correlação entre Nivel de Escolaridade, Renda e contratação ou não de apolice de casa"
   ]
  },
  {
   "cell_type": "code",
   "execution_count": 21,
   "id": "6b4b5dbf",
   "metadata": {},
   "outputs": [
    {
     "data": {
      "image/png": "[encoded data removed]",
      "text/plain": [
       "<Figure size 432x288 with 2 Axes>"
      ]
     },
     "metadata": {
      "needs_background": "light"
     },
     "output_type": "display_data"
    }
   ],
   "source": [
    "df_corr = df_data[[85,36,37,38,39,40,15,16,17]]\n",
    "correlation = df_corr.corr()\n",
    "plot = sn.heatmap(correlation, annot = True, fmt=\".1f\", linewidths=.6)"
   ]
  },
  {
   "cell_type": "markdown",
   "id": "bda3daa5",
   "metadata": {},
   "source": [
    "# Treinamento de modelos"
   ]
  },
  {
   "cell_type": "code",
   "execution_count": 22,
   "id": "6377b9b7",
   "metadata": {},
   "outputs": [],
   "source": [
    "X = [0,  1,  2,  3,  4,  5,  6,  7,  8,  9, 10, 11, 12, 13, 14, 15, 16,\n",
    "            17, 18, 19, 20, 21, 22, 23, 24, 25, 26, 27, 28, 29, 30, 31, 32, 33,\n",
    "            34, 35, 36, 37, 38, 39, 40, 41, 42, 43, 44, 45, 46, 47, 48, 49, 50,\n",
    "            51, 52, 53, 54, 55, 56, 57, 58, 59, 60, 61, 62, 63, 64, 65, 66, 67,\n",
    "            68, 69, 70, 71, 72, 73, 74, 75, 76, 77, 78, 79, 80, 81, 82, 83, 84]\n",
    "\n",
    "y = 85"
   ]
  },
  {
   "cell_type": "code",
   "execution_count": 23,
   "id": "eafe5368",
   "metadata": {},
   "outputs": [],
   "source": [
    "#Separação de dados em treino e teste\n",
    "X_train, X_test, y_train, y_test = train_test_split(df_data[X], df_data[y], test_size=0.3, random_state=12)"
   ]
  },
  {
   "cell_type": "markdown",
   "id": "2ca07689",
   "metadata": {},
   "source": [
    "<h1>Métodos para exibição de métricas dos modelos selecionados</h1>"
   ]
  },
  {
   "cell_type": "code",
   "execution_count": 24,
   "id": "13718dce",
   "metadata": {},
   "outputs": [],
   "source": [
    "#Criação de métodos para calculo e exibição de valores de dados necessários para a analise da cada modelo\n",
    "def plot_roc_curve(fper, tper):\n",
    "    plt.plot(fper, tper, color='red', label='ROC')\n",
    "    plt.plot([0, 1], [0, 1], color='green', linestyle='--')\n",
    "    plt.xlabel('False Positive Rate')\n",
    "    plt.ylabel('True Positive Rate')\n",
    "    plt.title('Receiver Operating Characteristic Curve')\n",
    "    plt.legend()\n",
    "    plt.show()\n",
    "\n",
    "\n",
    "def metricas(modelo, X_test, y_test):\n",
    "    fitted = modelo.predict(X_test)\n",
    "    fittedprob = modelo.predict_proba(X_test)\n",
    "    fittedprob = fittedprob[:,1]\n",
    "    print('cross validate : ', cross_validate(modelo, X_test, y_test, cv=4))\n",
    "    print('')\n",
    "    print('Matriz de confusão : ', '\\n' ,confusion_matrix(y_test, fitted))\n",
    "    print('')\n",
    "    print('Recall : ', '\\n' ,recall_score(y_test, fitted, average='macro'))\n",
    "    print('')\n",
    "    print('Precision : ' , '\\n' ,precision_score(y_test, fitted, average='macro'))\n",
    "    print('')\n",
    "    print('F1 - Macro : ', '\\n' ,metrics.f1_score(y_test, fitted, average='macro'))\n",
    "    print('')\n",
    "    print('AUC : ', '\\n' ,metrics.roc_auc_score(y_test, fittedprob))\n",
    "    print('')\n",
    "    print(classification_report(y_test,fitted))\n",
    "    \n",
    "    fpr, tpr, thresholds = metrics.roc_curve(y_test, fitted, pos_label=2)\n",
    "    fper, tper, thresholds = roc_curve(y_test, fittedprob)\n",
    "    plot_roc_curve(fper, tper)"
   ]
  },
  {
   "cell_type": "markdown",
   "id": "df3182a5",
   "metadata": {},
   "source": [
    "<h1> Treinando com todos os atributos</h1>"
   ]
  },
  {
   "cell_type": "markdown",
   "id": "289e8049",
   "metadata": {},
   "source": [
    "<h1>Naive Bayes</h1>"
   ]
  },
  {
   "cell_type": "code",
   "execution_count": 37,
   "id": "f96d2ffa",
   "metadata": {
    "scrolled": false
   },
   "outputs": [
    {
     "data": {
      "text/html": [
       "<style>#sk-container-id-3 {color: black;background-color: white;}#sk-container-id-3 pre{padding: 0;}#sk-container-id-3 div.sk-toggleable {background-color: white;}#sk-container-id-3 label.sk-toggleable__label {cursor: pointer;display: block;width: 100%;margin-bottom: 0;padding: 0.3em;box-sizing: border-box;text-align: center;}#sk-container-id-3 label.sk-toggleable__label-arrow:before {content: \"▸\";float: left;margin-right: 0.25em;color: #696969;}#sk-container-id-3 label.sk-toggleable__label-arrow:hover:before {color: black;}#sk-container-id-3 div.sk-estimator:hover label.sk-toggleable__label-arrow:before {color: black;}#sk-container-id-3 div.sk-toggleable__content {max-height: 0;max-width: 0;overflow: hidden;text-align: left;background-color: #f0f8ff;}#sk-container-id-3 div.sk-toggleable__content pre {margin: 0.2em;color: black;border-radius: 0.25em;background-color: #f0f8ff;}#sk-container-id-3 input.sk-toggleable__control:checked~div.sk-toggleable__content {max-height: 200px;max-width: 100%;overflow: auto;}#sk-container-id-3 input.sk-toggleable__control:checked~label.sk-toggleable__label-arrow:before {content: \"▾\";}#sk-container-id-3 div.sk-estimator input.sk-toggleable__control:checked~label.sk-toggleable__label {background-color: #d4ebff;}#sk-container-id-3 div.sk-label input.sk-toggleable__control:checked~label.sk-toggleable__label {background-color: #d4ebff;}#sk-container-id-3 input.sk-hidden--visually {border: 0;clip: rect(1px 1px 1px 1px);clip: rect(1px, 1px, 1px, 1px);height: 1px;margin: -1px;overflow: hidden;padding: 0;position: absolute;width: 1px;}#sk-container-id-3 div.sk-estimator {font-family: monospace;background-color: #f0f8ff;border: 1px dotted black;border-radius: 0.25em;box-sizing: border-box;margin-bottom: 0.5em;}#sk-container-id-3 div.sk-estimator:hover {background-color: #d4ebff;}#sk-container-id-3 div.sk-parallel-item::after {content: \"\";width: 100%;border-bottom: 1px solid gray;flex-grow: 1;}#sk-container-id-3 div.sk-label:hover label.sk-toggleable__label {background-color: #d4ebff;}#sk-container-id-3 div.sk-serial::before {content: \"\";position: absolute;border-left: 1px solid gray;box-sizing: border-box;top: 0;bottom: 0;left: 50%;z-index: 0;}#sk-container-id-3 div.sk-serial {display: flex;flex-direction: column;align-items: center;background-color: white;padding-right: 0.2em;padding-left: 0.2em;position: relative;}#sk-container-id-3 div.sk-item {position: relative;z-index: 1;}#sk-container-id-3 div.sk-parallel {display: flex;align-items: stretch;justify-content: center;background-color: white;position: relative;}#sk-container-id-3 div.sk-item::before, #sk-container-id-3 div.sk-parallel-item::before {content: \"\";position: absolute;border-left: 1px solid gray;box-sizing: border-box;top: 0;bottom: 0;left: 50%;z-index: -1;}#sk-container-id-3 div.sk-parallel-item {display: flex;flex-direction: column;z-index: 1;position: relative;background-color: white;}#sk-container-id-3 div.sk-parallel-item:first-child::after {align-self: flex-end;width: 50%;}#sk-container-id-3 div.sk-parallel-item:last-child::after {align-self: flex-start;width: 50%;}#sk-container-id-3 div.sk-parallel-item:only-child::after {width: 0;}#sk-container-id-3 div.sk-dashed-wrapped {border: 1px dashed gray;margin: 0 0.4em 0.5em 0.4em;box-sizing: border-box;padding-bottom: 0.4em;background-color: white;}#sk-container-id-3 div.sk-label label {font-family: monospace;font-weight: bold;display: inline-block;line-height: 1.2em;}#sk-container-id-3 div.sk-label-container {text-align: center;}#sk-container-id-3 div.sk-container {/* jupyter's `normalize.less` sets `[hidden] { display: none; }` but bootstrap.min.css set `[hidden] { display: none !important; }` so we also need the `!important` here to be able to override the default hidden behavior on the sphinx rendered scikit-learn.org. See: https://github.com/scikit-learn/scikit-learn/issues/21755 */display: inline-block !important;position: relative;}#sk-container-id-3 div.sk-text-repr-fallback {display: none;}</style><div id=\"sk-container-id-3\" class=\"sk-top-container\"><div class=\"sk-text-repr-fallback\"><pre>MultinomialNB()</pre><b>In a Jupyter environment, please rerun this cell to show the HTML representation or trust the notebook. <br />On GitHub, the HTML representation is unable to render, please try loading this page with nbviewer.org.</b></div><div class=\"sk-container\" hidden><div class=\"sk-item\"><div class=\"sk-estimator sk-toggleable\"><input class=\"sk-toggleable__control sk-hidden--visually\" id=\"sk-estimator-id-3\" type=\"checkbox\" checked><label for=\"sk-estimator-id-3\" class=\"sk-toggleable__label sk-toggleable__label-arrow\">MultinomialNB</label><div class=\"sk-toggleable__content\"><pre>MultinomialNB()</pre></div></div></div></div></div>"
      ],
      "text/plain": [
       "MultinomialNB()"
      ]
     },
     "execution_count": 37,
     "metadata": {},
     "output_type": "execute_result"
    }
   ],
   "source": [
    "#Instanciando modelo e efetuando o seu treinamento\n",
    "naive = MultinomialNB()\n",
    "naive.fit(X_train, y_train)\n"
   ]
  },
  {
   "cell_type": "code",
   "execution_count": 38,
   "id": "48b2632a",
   "metadata": {},
   "outputs": [
    {
     "name": "stdout",
     "output_type": "stream",
     "text": [
      "cross validate :  {'fit_time': array([0.00698447, 0.00598669, 0.00498295, 0.00299048]), 'score_time': array([0.0039866 , 0.0039885 , 0.00199389, 0.00199509]), 'test_score': array([0.80091533, 0.75514874, 0.74599542, 0.80275229])}\n",
      "\n",
      "Matriz de confusão :  \n",
      " [[1281  368]\n",
      " [  40   58]]\n",
      "\n",
      "Recall :  \n",
      " 0.6843355899060655\n",
      "\n",
      "Precision :  \n",
      " 0.5529350719507558\n",
      "\n",
      "F1 - Macro :  \n",
      " 0.5420001542138947\n",
      "\n",
      "AUC :  \n",
      " 0.7254489424635834\n",
      "\n",
      "              precision    recall  f1-score   support\n",
      "\n",
      "           0       0.97      0.78      0.86      1649\n",
      "           1       0.14      0.59      0.22        98\n",
      "\n",
      "    accuracy                           0.77      1747\n",
      "   macro avg       0.55      0.68      0.54      1747\n",
      "weighted avg       0.92      0.77      0.83      1747\n",
      "\n"
     ]
    },
    {
     "name": "stderr",
     "output_type": "stream",
     "text": [
      "C:\\Users\\Marcos Tamas\\anaconda3\\lib\\site-packages\\sklearn\\metrics\\_ranking.py:1016: UndefinedMetricWarning: No positive samples in y_true, true positive value should be meaningless\n",
      "  warnings.warn(\n"
     ]
    },
    {
     "data": {
      "image/png": "[encoded data removed]",
      "text/plain": [
       "<Figure size 432x288 with 1 Axes>"
      ]
     },
     "metadata": {
      "needs_background": "light"
     },
     "output_type": "display_data"
    }
   ],
   "source": [
    "#Chamando metodo que retorna as métricas, passando para o método o modelo treinado acima \n",
    "#e os dados de teste para calculo das metricas\n",
    "metricas(naive,X_test,y_test)"
   ]
  },
  {
   "cell_type": "markdown",
   "id": "3b5340e5",
   "metadata": {},
   "source": [
    "<h1>Regressão logistica</h1>"
   ]
  },
  {
   "cell_type": "code",
   "execution_count": 39,
   "id": "7f61565d",
   "metadata": {},
   "outputs": [
    {
     "data": {
      "text/html": [
       "<style>#sk-container-id-4 {color: black;background-color: white;}#sk-container-id-4 pre{padding: 0;}#sk-container-id-4 div.sk-toggleable {background-color: white;}#sk-container-id-4 label.sk-toggleable__label {cursor: pointer;display: block;width: 100%;margin-bottom: 0;padding: 0.3em;box-sizing: border-box;text-align: center;}#sk-container-id-4 label.sk-toggleable__label-arrow:before {content: \"▸\";float: left;margin-right: 0.25em;color: #696969;}#sk-container-id-4 label.sk-toggleable__label-arrow:hover:before {color: black;}#sk-container-id-4 div.sk-estimator:hover label.sk-toggleable__label-arrow:before {color: black;}#sk-container-id-4 div.sk-toggleable__content {max-height: 0;max-width: 0;overflow: hidden;text-align: left;background-color: #f0f8ff;}#sk-container-id-4 div.sk-toggleable__content pre {margin: 0.2em;color: black;border-radius: 0.25em;background-color: #f0f8ff;}#sk-container-id-4 input.sk-toggleable__control:checked~div.sk-toggleable__content {max-height: 200px;max-width: 100%;overflow: auto;}#sk-container-id-4 input.sk-toggleable__control:checked~label.sk-toggleable__label-arrow:before {content: \"▾\";}#sk-container-id-4 div.sk-estimator input.sk-toggleable__control:checked~label.sk-toggleable__label {background-color: #d4ebff;}#sk-container-id-4 div.sk-label input.sk-toggleable__control:checked~label.sk-toggleable__label {background-color: #d4ebff;}#sk-container-id-4 input.sk-hidden--visually {border: 0;clip: rect(1px 1px 1px 1px);clip: rect(1px, 1px, 1px, 1px);height: 1px;margin: -1px;overflow: hidden;padding: 0;position: absolute;width: 1px;}#sk-container-id-4 div.sk-estimator {font-family: monospace;background-color: #f0f8ff;border: 1px dotted black;border-radius: 0.25em;box-sizing: border-box;margin-bottom: 0.5em;}#sk-container-id-4 div.sk-estimator:hover {background-color: #d4ebff;}#sk-container-id-4 div.sk-parallel-item::after {content: \"\";width: 100%;border-bottom: 1px solid gray;flex-grow: 1;}#sk-container-id-4 div.sk-label:hover label.sk-toggleable__label {background-color: #d4ebff;}#sk-container-id-4 div.sk-serial::before {content: \"\";position: absolute;border-left: 1px solid gray;box-sizing: border-box;top: 0;bottom: 0;left: 50%;z-index: 0;}#sk-container-id-4 div.sk-serial {display: flex;flex-direction: column;align-items: center;background-color: white;padding-right: 0.2em;padding-left: 0.2em;position: relative;}#sk-container-id-4 div.sk-item {position: relative;z-index: 1;}#sk-container-id-4 div.sk-parallel {display: flex;align-items: stretch;justify-content: center;background-color: white;position: relative;}#sk-container-id-4 div.sk-item::before, #sk-container-id-4 div.sk-parallel-item::before {content: \"\";position: absolute;border-left: 1px solid gray;box-sizing: border-box;top: 0;bottom: 0;left: 50%;z-index: -1;}#sk-container-id-4 div.sk-parallel-item {display: flex;flex-direction: column;z-index: 1;position: relative;background-color: white;}#sk-container-id-4 div.sk-parallel-item:first-child::after {align-self: flex-end;width: 50%;}#sk-container-id-4 div.sk-parallel-item:last-child::after {align-self: flex-start;width: 50%;}#sk-container-id-4 div.sk-parallel-item:only-child::after {width: 0;}#sk-container-id-4 div.sk-dashed-wrapped {border: 1px dashed gray;margin: 0 0.4em 0.5em 0.4em;box-sizing: border-box;padding-bottom: 0.4em;background-color: white;}#sk-container-id-4 div.sk-label label {font-family: monospace;font-weight: bold;display: inline-block;line-height: 1.2em;}#sk-container-id-4 div.sk-label-container {text-align: center;}#sk-container-id-4 div.sk-container {/* jupyter's `normalize.less` sets `[hidden] { display: none; }` but bootstrap.min.css set `[hidden] { display: none !important; }` so we also need the `!important` here to be able to override the default hidden behavior on the sphinx rendered scikit-learn.org. See: https://github.com/scikit-learn/scikit-learn/issues/21755 */display: inline-block !important;position: relative;}#sk-container-id-4 div.sk-text-repr-fallback {display: none;}</style><div id=\"sk-container-id-4\" class=\"sk-top-container\"><div class=\"sk-text-repr-fallback\"><pre>LogisticRegression(C=1e+42, solver=&#x27;liblinear&#x27;)</pre><b>In a Jupyter environment, please rerun this cell to show the HTML representation or trust the notebook. <br />On GitHub, the HTML representation is unable to render, please try loading this page with nbviewer.org.</b></div><div class=\"sk-container\" hidden><div class=\"sk-item\"><div class=\"sk-estimator sk-toggleable\"><input class=\"sk-toggleable__control sk-hidden--visually\" id=\"sk-estimator-id-4\" type=\"checkbox\" checked><label for=\"sk-estimator-id-4\" class=\"sk-toggleable__label sk-toggleable__label-arrow\">LogisticRegression</label><div class=\"sk-toggleable__content\"><pre>LogisticRegression(C=1e+42, solver=&#x27;liblinear&#x27;)</pre></div></div></div></div></div>"
      ],
      "text/plain": [
       "LogisticRegression(C=1e+42, solver='liblinear')"
      ]
     },
     "execution_count": 39,
     "metadata": {},
     "output_type": "execute_result"
    }
   ],
   "source": [
    "#Instanciando modelo e efetuando o seu treinamento\n",
    "model = LogisticRegression(penalty='l2', C=1e42, solver='liblinear')\n",
    "model.fit(X_train, y_train)"
   ]
  },
  {
   "cell_type": "code",
   "execution_count": 40,
   "id": "f1b5350d",
   "metadata": {},
   "outputs": [
    {
     "name": "stdout",
     "output_type": "stream",
     "text": [
      "cross validate :  {'fit_time': array([0.21574044, 0.27799654, 0.42466331, 0.199651  ]), 'score_time': array([0.00200176, 0.00200152, 0.00296164, 0.00200176]), 'test_score': array([0.93363844, 0.93135011, 0.93363844, 0.93577982])}\n",
      "\n",
      "Matriz de confusão :  \n",
      " [[1637   12]\n",
      " [  97    1]]\n",
      "\n",
      "Recall :  \n",
      " 0.5014634719867328\n",
      "\n",
      "Precision :  \n",
      " 0.5104915269275131\n",
      "\n",
      "F1 - Macro :  \n",
      " 0.4928990474364403\n",
      "\n",
      "AUC :  \n",
      " 0.7572431034269378\n",
      "\n",
      "              precision    recall  f1-score   support\n",
      "\n",
      "           0       0.94      0.99      0.97      1649\n",
      "           1       0.08      0.01      0.02        98\n",
      "\n",
      "    accuracy                           0.94      1747\n",
      "   macro avg       0.51      0.50      0.49      1747\n",
      "weighted avg       0.90      0.94      0.91      1747\n",
      "\n"
     ]
    },
    {
     "name": "stderr",
     "output_type": "stream",
     "text": [
      "C:\\Users\\Marcos Tamas\\anaconda3\\lib\\site-packages\\sklearn\\metrics\\_ranking.py:1016: UndefinedMetricWarning: No positive samples in y_true, true positive value should be meaningless\n",
      "  warnings.warn(\n"
     ]
    },
    {
     "data": {
      "image/png": "[encoded data removed]",
      "text/plain": [
       "<Figure size 432x288 with 1 Axes>"
      ]
     },
     "metadata": {
      "needs_background": "light"
     },
     "output_type": "display_data"
    }
   ],
   "source": [
    "#Chamando metodo que retorna as métricas, passando para o método o modelo treinado acima \n",
    "#e os dados de teste para calculo das metricas\n",
    "metricas(model, X_test,y_test)"
   ]
  },
  {
   "cell_type": "markdown",
   "id": "b39cf821",
   "metadata": {},
   "source": [
    "<h1>KNN</h1>"
   ]
  },
  {
   "cell_type": "code",
   "execution_count": null,
   "id": "a958476c",
   "metadata": {},
   "outputs": [],
   "source": [
    "os.environ['KMP_DUPLICATE_LIB_OK'] = 'TRUE'"
   ]
  },
  {
   "cell_type": "code",
   "execution_count": null,
   "id": "411ef65f",
   "metadata": {},
   "outputs": [],
   "source": [
    "#Instanciando modelo, definindo a quantidade de vizinhos que o modelo utilizará (no caso 3) \n",
    "#efetuando o seu treinamento e imprimindo sua matriz de probabilidades\n",
    "knn = KNeighborsClassifier(n_neighbors=3)\n",
    "knn.fit(X_train, y_train)\n",
    "knn.predict(X_test)\n",
    "print (knn.predict_proba(X_test))"
   ]
  },
  {
   "cell_type": "code",
   "execution_count": null,
   "id": "c1fff85c",
   "metadata": {
    "scrolled": false
   },
   "outputs": [],
   "source": [
    "#Chamando metodo que retorna as métricas, passando para o método o modelo treinado acima \n",
    "#e os dados de teste para calculo das metricas\n",
    "metricas(knn, X_test,y_test)"
   ]
  },
  {
   "cell_type": "markdown",
   "id": "6166d0f3",
   "metadata": {},
   "source": [
    "# XGBoosting"
   ]
  },
  {
   "cell_type": "code",
   "execution_count": null,
   "id": "bf53205c",
   "metadata": {
    "scrolled": true
   },
   "outputs": [],
   "source": [
    "#Instanciando modelo e efetuando o seu treinamento\n",
    "xgb = XGBClassifier(objective='binary:logistic', subsample=.63, \n",
    "                    use_label_encoder=False, eval_metric='error')\n",
    "xgb.fit(X_train, y_train)"
   ]
  },
  {
   "cell_type": "code",
   "execution_count": null,
   "id": "21ab0db9",
   "metadata": {
    "scrolled": false
   },
   "outputs": [],
   "source": [
    "#Chamando metodo que retorna as métricas, passando para o método o modelo treinado acima \n",
    "#e os dados de teste para calculo das metricas\n",
    "metricas(xgb,X_test,y_test)"
   ]
  },
  {
   "cell_type": "markdown",
   "id": "3c8beab6",
   "metadata": {},
   "source": [
    "<h1>Random Forest</h1>"
   ]
  },
  {
   "cell_type": "code",
   "execution_count": 41,
   "id": "f4476f24",
   "metadata": {
    "scrolled": false
   },
   "outputs": [
    {
     "data": {
      "text/html": [
       "<style>#sk-container-id-5 {color: black;background-color: white;}#sk-container-id-5 pre{padding: 0;}#sk-container-id-5 div.sk-toggleable {background-color: white;}#sk-container-id-5 label.sk-toggleable__label {cursor: pointer;display: block;width: 100%;margin-bottom: 0;padding: 0.3em;box-sizing: border-box;text-align: center;}#sk-container-id-5 label.sk-toggleable__label-arrow:before {content: \"▸\";float: left;margin-right: 0.25em;color: #696969;}#sk-container-id-5 label.sk-toggleable__label-arrow:hover:before {color: black;}#sk-container-id-5 div.sk-estimator:hover label.sk-toggleable__label-arrow:before {color: black;}#sk-container-id-5 div.sk-toggleable__content {max-height: 0;max-width: 0;overflow: hidden;text-align: left;background-color: #f0f8ff;}#sk-container-id-5 div.sk-toggleable__content pre {margin: 0.2em;color: black;border-radius: 0.25em;background-color: #f0f8ff;}#sk-container-id-5 input.sk-toggleable__control:checked~div.sk-toggleable__content {max-height: 200px;max-width: 100%;overflow: auto;}#sk-container-id-5 input.sk-toggleable__control:checked~label.sk-toggleable__label-arrow:before {content: \"▾\";}#sk-container-id-5 div.sk-estimator input.sk-toggleable__control:checked~label.sk-toggleable__label {background-color: #d4ebff;}#sk-container-id-5 div.sk-label input.sk-toggleable__control:checked~label.sk-toggleable__label {background-color: #d4ebff;}#sk-container-id-5 input.sk-hidden--visually {border: 0;clip: rect(1px 1px 1px 1px);clip: rect(1px, 1px, 1px, 1px);height: 1px;margin: -1px;overflow: hidden;padding: 0;position: absolute;width: 1px;}#sk-container-id-5 div.sk-estimator {font-family: monospace;background-color: #f0f8ff;border: 1px dotted black;border-radius: 0.25em;box-sizing: border-box;margin-bottom: 0.5em;}#sk-container-id-5 div.sk-estimator:hover {background-color: #d4ebff;}#sk-container-id-5 div.sk-parallel-item::after {content: \"\";width: 100%;border-bottom: 1px solid gray;flex-grow: 1;}#sk-container-id-5 div.sk-label:hover label.sk-toggleable__label {background-color: #d4ebff;}#sk-container-id-5 div.sk-serial::before {content: \"\";position: absolute;border-left: 1px solid gray;box-sizing: border-box;top: 0;bottom: 0;left: 50%;z-index: 0;}#sk-container-id-5 div.sk-serial {display: flex;flex-direction: column;align-items: center;background-color: white;padding-right: 0.2em;padding-left: 0.2em;position: relative;}#sk-container-id-5 div.sk-item {position: relative;z-index: 1;}#sk-container-id-5 div.sk-parallel {display: flex;align-items: stretch;justify-content: center;background-color: white;position: relative;}#sk-container-id-5 div.sk-item::before, #sk-container-id-5 div.sk-parallel-item::before {content: \"\";position: absolute;border-left: 1px solid gray;box-sizing: border-box;top: 0;bottom: 0;left: 50%;z-index: -1;}#sk-container-id-5 div.sk-parallel-item {display: flex;flex-direction: column;z-index: 1;position: relative;background-color: white;}#sk-container-id-5 div.sk-parallel-item:first-child::after {align-self: flex-end;width: 50%;}#sk-container-id-5 div.sk-parallel-item:last-child::after {align-self: flex-start;width: 50%;}#sk-container-id-5 div.sk-parallel-item:only-child::after {width: 0;}#sk-container-id-5 div.sk-dashed-wrapped {border: 1px dashed gray;margin: 0 0.4em 0.5em 0.4em;box-sizing: border-box;padding-bottom: 0.4em;background-color: white;}#sk-container-id-5 div.sk-label label {font-family: monospace;font-weight: bold;display: inline-block;line-height: 1.2em;}#sk-container-id-5 div.sk-label-container {text-align: center;}#sk-container-id-5 div.sk-container {/* jupyter's `normalize.less` sets `[hidden] { display: none; }` but bootstrap.min.css set `[hidden] { display: none !important; }` so we also need the `!important` here to be able to override the default hidden behavior on the sphinx rendered scikit-learn.org. See: https://github.com/scikit-learn/scikit-learn/issues/21755 */display: inline-block !important;position: relative;}#sk-container-id-5 div.sk-text-repr-fallback {display: none;}</style><div id=\"sk-container-id-5\" class=\"sk-top-container\"><div class=\"sk-text-repr-fallback\"><pre>RandomForestClassifier(criterion=&#x27;entropy&#x27;, n_estimators=500, random_state=1)</pre><b>In a Jupyter environment, please rerun this cell to show the HTML representation or trust the notebook. <br />On GitHub, the HTML representation is unable to render, please try loading this page with nbviewer.org.</b></div><div class=\"sk-container\" hidden><div class=\"sk-item\"><div class=\"sk-estimator sk-toggleable\"><input class=\"sk-toggleable__control sk-hidden--visually\" id=\"sk-estimator-id-5\" type=\"checkbox\" checked><label for=\"sk-estimator-id-5\" class=\"sk-toggleable__label sk-toggleable__label-arrow\">RandomForestClassifier</label><div class=\"sk-toggleable__content\"><pre>RandomForestClassifier(criterion=&#x27;entropy&#x27;, n_estimators=500, random_state=1)</pre></div></div></div></div></div>"
      ],
      "text/plain": [
       "RandomForestClassifier(criterion='entropy', n_estimators=500, random_state=1)"
      ]
     },
     "execution_count": 41,
     "metadata": {},
     "output_type": "execute_result"
    }
   ],
   "source": [
    "#Instanciando modelo e efetuando o seu treinamento\n",
    "rf = RandomForestClassifier(n_estimators=500, random_state=1,\n",
    "                                        criterion='entropy')\n",
    "rf.fit(X_train, y_train)"
   ]
  },
  {
   "cell_type": "code",
   "execution_count": 26,
   "id": "ae171a47",
   "metadata": {
    "scrolled": false
   },
   "outputs": [
    {
     "name": "stdout",
     "output_type": "stream",
     "text": [
      "cross validate :  {'fit_time': array([1.24470377, 1.1928091 , 1.24566579, 1.20876694]), 'score_time': array([0.0747664 , 0.07579708, 0.07280731, 0.08876038]), 'test_score': array([0.93363844, 0.93363844, 0.9382151 , 0.93807339])}\n",
      "\n",
      "Matriz de confusão :  \n",
      " [[1621   28]\n",
      " [  96    2]]\n",
      "\n",
      "Recall :  \n",
      " 0.5017140876969344\n",
      "\n",
      "Precision :  \n",
      " 0.5053775965831877\n",
      "\n",
      "F1 - Macro :  \n",
      " 0.4972055109922757\n",
      "\n",
      "AUC :  \n",
      " 0.7259996782218042\n",
      "\n",
      "              precision    recall  f1-score   support\n",
      "\n",
      "           0       0.94      0.98      0.96      1649\n",
      "           1       0.07      0.02      0.03        98\n",
      "\n",
      "    accuracy                           0.93      1747\n",
      "   macro avg       0.51      0.50      0.50      1747\n",
      "weighted avg       0.89      0.93      0.91      1747\n",
      "\n"
     ]
    },
    {
     "name": "stderr",
     "output_type": "stream",
     "text": [
      "C:\\Users\\Marcos Tamas\\anaconda3\\lib\\site-packages\\sklearn\\metrics\\_ranking.py:1016: UndefinedMetricWarning: No positive samples in y_true, true positive value should be meaningless\n",
      "  warnings.warn(\n"
     ]
    },
    {
     "data": {
      "image/png": "[encoded data removed]",
      "text/plain": [
       "<Figure size 432x288 with 1 Axes>"
      ]
     },
     "metadata": {
      "needs_background": "light"
     },
     "output_type": "display_data"
    }
   ],
   "source": [
    "#Chamando metodo que retorna as métricas, passando para o método o modelo treinado acima \n",
    "#e os dados de teste para calculo das metrica\n",
    "metricas(rf, X_test, y_test)"
   ]
  },
  {
   "cell_type": "markdown",
   "id": "e4638a76",
   "metadata": {},
   "source": [
    "<h2>Tentativa de melhora do Random Forest</h2>"
   ]
  },
  {
   "cell_type": "code",
   "execution_count": null,
   "id": "0a5cfdcc",
   "metadata": {
    "scrolled": true
   },
   "outputs": [],
   "source": [
    "#Utilização do RandomForestClassifier para treinarmos vários modelos simultaneamente, comparando com os critérios definidos\n",
    "#na variavel random_search, a fim de tentar encontrar o melhor modelo a partir do treinamento 90 modelos\n",
    "#30 iterações x 3 vezes cada modelo pelo cross validation\n",
    "random_search = {'criterion': ['entropy', 'gini'],\n",
    "               'max_depth': list(np.linspace(10, 1200, 10, dtype = int)) + [None],\n",
    "               'max_features': ['auto','log2', None],\n",
    "               'min_samples_leaf': [4, 6, 8, 12],\n",
    "               'min_samples_split': [5, 7, 10, 14],\n",
    "               'n_estimators': list(np.linspace(151, 1200, 10, dtype = int))}\n",
    "\n",
    "rf_hyper = RandomForestClassifier()\n",
    "model_hyper = RandomizedSearchCV(estimator = rf_hyper, param_distributions = random_search, n_iter = 30, \n",
    "                               cv = 3, verbose= 0, random_state= 12, n_jobs = -1)\n",
    "model_hyper.fit(X_train,y_train)"
   ]
  },
  {
   "cell_type": "code",
   "execution_count": null,
   "id": "edfa80a8",
   "metadata": {
    "scrolled": false
   },
   "outputs": [],
   "source": [
    "#O modelo acima possui um atributo chamado best_estimator, que seria o melhor modelo treinado entre os 90, utilizamos o\n",
    "#melhor para definir as métricas\n",
    "metricas(model_hyper.best_estimator_, X_test,y_test)"
   ]
  },
  {
   "cell_type": "markdown",
   "id": "6e2e6f6e",
   "metadata": {},
   "source": [
    "<h1>Treinando com os melhores atributos</h1>"
   ]
  },
  {
   "cell_type": "markdown",
   "id": "621f74e6",
   "metadata": {},
   "source": [
    "<h2>Lasso Regression para selecionar melhores atributos</h2>"
   ]
  },
  {
   "cell_type": "code",
   "execution_count": 43,
   "id": "cd9036bf",
   "metadata": {},
   "outputs": [],
   "source": [
    "#Inicialização do GridSearchCV, passando o Lasso regression e os atributos abaixo para definição de quais são as melhores\n",
    "#features para o modelo\n",
    "search = GridSearchCV(Lasso(),\n",
    "                      {'alpha':[0.0015,0.0025,0.0030,0.002,0.003,0.005]},\n",
    "                      cv = 4, scoring=\"neg_mean_squared_error\",verbose=0\n",
    "                      )"
   ]
  },
  {
   "cell_type": "code",
   "execution_count": 44,
   "id": "7ecaadd5",
   "metadata": {
    "scrolled": false
   },
   "outputs": [
    {
     "data": {
      "text/html": [
       "<style>#sk-container-id-6 {color: black;background-color: white;}#sk-container-id-6 pre{padding: 0;}#sk-container-id-6 div.sk-toggleable {background-color: white;}#sk-container-id-6 label.sk-toggleable__label {cursor: pointer;display: block;width: 100%;margin-bottom: 0;padding: 0.3em;box-sizing: border-box;text-align: center;}#sk-container-id-6 label.sk-toggleable__label-arrow:before {content: \"▸\";float: left;margin-right: 0.25em;color: #696969;}#sk-container-id-6 label.sk-toggleable__label-arrow:hover:before {color: black;}#sk-container-id-6 div.sk-estimator:hover label.sk-toggleable__label-arrow:before {color: black;}#sk-container-id-6 div.sk-toggleable__content {max-height: 0;max-width: 0;overflow: hidden;text-align: left;background-color: #f0f8ff;}#sk-container-id-6 div.sk-toggleable__content pre {margin: 0.2em;color: black;border-radius: 0.25em;background-color: #f0f8ff;}#sk-container-id-6 input.sk-toggleable__control:checked~div.sk-toggleable__content {max-height: 200px;max-width: 100%;overflow: auto;}#sk-container-id-6 input.sk-toggleable__control:checked~label.sk-toggleable__label-arrow:before {content: \"▾\";}#sk-container-id-6 div.sk-estimator input.sk-toggleable__control:checked~label.sk-toggleable__label {background-color: #d4ebff;}#sk-container-id-6 div.sk-label input.sk-toggleable__control:checked~label.sk-toggleable__label {background-color: #d4ebff;}#sk-container-id-6 input.sk-hidden--visually {border: 0;clip: rect(1px 1px 1px 1px);clip: rect(1px, 1px, 1px, 1px);height: 1px;margin: -1px;overflow: hidden;padding: 0;position: absolute;width: 1px;}#sk-container-id-6 div.sk-estimator {font-family: monospace;background-color: #f0f8ff;border: 1px dotted black;border-radius: 0.25em;box-sizing: border-box;margin-bottom: 0.5em;}#sk-container-id-6 div.sk-estimator:hover {background-color: #d4ebff;}#sk-container-id-6 div.sk-parallel-item::after {content: \"\";width: 100%;border-bottom: 1px solid gray;flex-grow: 1;}#sk-container-id-6 div.sk-label:hover label.sk-toggleable__label {background-color: #d4ebff;}#sk-container-id-6 div.sk-serial::before {content: \"\";position: absolute;border-left: 1px solid gray;box-sizing: border-box;top: 0;bottom: 0;left: 50%;z-index: 0;}#sk-container-id-6 div.sk-serial {display: flex;flex-direction: column;align-items: center;background-color: white;padding-right: 0.2em;padding-left: 0.2em;position: relative;}#sk-container-id-6 div.sk-item {position: relative;z-index: 1;}#sk-container-id-6 div.sk-parallel {display: flex;align-items: stretch;justify-content: center;background-color: white;position: relative;}#sk-container-id-6 div.sk-item::before, #sk-container-id-6 div.sk-parallel-item::before {content: \"\";position: absolute;border-left: 1px solid gray;box-sizing: border-box;top: 0;bottom: 0;left: 50%;z-index: -1;}#sk-container-id-6 div.sk-parallel-item {display: flex;flex-direction: column;z-index: 1;position: relative;background-color: white;}#sk-container-id-6 div.sk-parallel-item:first-child::after {align-self: flex-end;width: 50%;}#sk-container-id-6 div.sk-parallel-item:last-child::after {align-self: flex-start;width: 50%;}#sk-container-id-6 div.sk-parallel-item:only-child::after {width: 0;}#sk-container-id-6 div.sk-dashed-wrapped {border: 1px dashed gray;margin: 0 0.4em 0.5em 0.4em;box-sizing: border-box;padding-bottom: 0.4em;background-color: white;}#sk-container-id-6 div.sk-label label {font-family: monospace;font-weight: bold;display: inline-block;line-height: 1.2em;}#sk-container-id-6 div.sk-label-container {text-align: center;}#sk-container-id-6 div.sk-container {/* jupyter's `normalize.less` sets `[hidden] { display: none; }` but bootstrap.min.css set `[hidden] { display: none !important; }` so we also need the `!important` here to be able to override the default hidden behavior on the sphinx rendered scikit-learn.org. See: https://github.com/scikit-learn/scikit-learn/issues/21755 */display: inline-block !important;position: relative;}#sk-container-id-6 div.sk-text-repr-fallback {display: none;}</style><div id=\"sk-container-id-6\" class=\"sk-top-container\"><div class=\"sk-text-repr-fallback\"><pre>GridSearchCV(cv=4, estimator=Lasso(),\n",
       "             param_grid={&#x27;alpha&#x27;: [0.0015, 0.0025, 0.003, 0.002, 0.003, 0.005]},\n",
       "             scoring=&#x27;neg_mean_squared_error&#x27;)</pre><b>In a Jupyter environment, please rerun this cell to show the HTML representation or trust the notebook. <br />On GitHub, the HTML representation is unable to render, please try loading this page with nbviewer.org.</b></div><div class=\"sk-container\" hidden><div class=\"sk-item sk-dashed-wrapped\"><div class=\"sk-label-container\"><div class=\"sk-label sk-toggleable\"><input class=\"sk-toggleable__control sk-hidden--visually\" id=\"sk-estimator-id-6\" type=\"checkbox\" ><label for=\"sk-estimator-id-6\" class=\"sk-toggleable__label sk-toggleable__label-arrow\">GridSearchCV</label><div class=\"sk-toggleable__content\"><pre>GridSearchCV(cv=4, estimator=Lasso(),\n",
       "             param_grid={&#x27;alpha&#x27;: [0.0015, 0.0025, 0.003, 0.002, 0.003, 0.005]},\n",
       "             scoring=&#x27;neg_mean_squared_error&#x27;)</pre></div></div></div><div class=\"sk-parallel\"><div class=\"sk-parallel-item\"><div class=\"sk-item\"><div class=\"sk-label-container\"><div class=\"sk-label sk-toggleable\"><input class=\"sk-toggleable__control sk-hidden--visually\" id=\"sk-estimator-id-7\" type=\"checkbox\" ><label for=\"sk-estimator-id-7\" class=\"sk-toggleable__label sk-toggleable__label-arrow\">estimator: Lasso</label><div class=\"sk-toggleable__content\"><pre>Lasso()</pre></div></div></div><div class=\"sk-serial\"><div class=\"sk-item\"><div class=\"sk-estimator sk-toggleable\"><input class=\"sk-toggleable__control sk-hidden--visually\" id=\"sk-estimator-id-8\" type=\"checkbox\" ><label for=\"sk-estimator-id-8\" class=\"sk-toggleable__label sk-toggleable__label-arrow\">Lasso</label><div class=\"sk-toggleable__content\"><pre>Lasso()</pre></div></div></div></div></div></div></div></div></div></div>"
      ],
      "text/plain": [
       "GridSearchCV(cv=4, estimator=Lasso(),\n",
       "             param_grid={'alpha': [0.0015, 0.0025, 0.003, 0.002, 0.003, 0.005]},\n",
       "             scoring='neg_mean_squared_error')"
      ]
     },
     "execution_count": 44,
     "metadata": {},
     "output_type": "execute_result"
    }
   ],
   "source": [
    "#treinamento do modelo\n",
    "search.fit(X_train,y_train)"
   ]
  },
  {
   "cell_type": "code",
   "execution_count": 45,
   "id": "e9a0d8fe",
   "metadata": {
    "scrolled": true
   },
   "outputs": [
    {
     "data": {
      "text/plain": [
       "{'alpha': 0.0025}"
      ]
     },
     "execution_count": 45,
     "metadata": {},
     "output_type": "execute_result"
    }
   ],
   "source": [
    "#verificando qual foi o alpha que obteve melhores resultados dentre todo o array passado\n",
    "search.best_params_"
   ]
  },
  {
   "cell_type": "code",
   "execution_count": 46,
   "id": "9bbec131",
   "metadata": {},
   "outputs": [],
   "source": [
    "#armazenando na variavel coefficients os valores de todos os coeficientes do melhor melhor\n",
    "coefficients = search.best_estimator_.coef_"
   ]
  },
  {
   "cell_type": "code",
   "execution_count": 47,
   "id": "578f0b03",
   "metadata": {
    "scrolled": false
   },
   "outputs": [
    {
     "data": {
      "text/plain": [
       "array([2.96934860e-04, 0.00000000e+00, 0.00000000e+00, 1.45743978e-03,\n",
       "       9.03984413e-05, 0.00000000e+00, 3.08407904e-03, 4.26675027e-03,\n",
       "       1.67676200e-03, 4.34559521e-03, 0.00000000e+00, 0.00000000e+00,\n",
       "       1.43074846e-03, 0.00000000e+00, 0.00000000e+00, 3.65506012e-03,\n",
       "       0.00000000e+00, 4.04414311e-03, 0.00000000e+00, 0.00000000e+00,\n",
       "       2.09007020e-03, 3.23169962e-03, 0.00000000e+00, 0.00000000e+00,\n",
       "       0.00000000e+00, 1.07686180e-03, 0.00000000e+00, 3.11335683e-04,\n",
       "       0.00000000e+00, 1.84191205e-05, 0.00000000e+00, 9.72513747e-04,\n",
       "       0.00000000e+00, 0.00000000e+00, 0.00000000e+00, 6.59740173e-04,\n",
       "       0.00000000e+00, 0.00000000e+00, 0.00000000e+00, 1.90877231e-03,\n",
       "       2.76189722e-03, 2.01190709e-03, 1.20192181e-03, 6.37830388e-03,\n",
       "       0.00000000e+00, 0.00000000e+00, 1.17750764e-02, 0.00000000e+00,\n",
       "       0.00000000e+00, 0.00000000e+00, 0.00000000e+00, 0.00000000e+00,\n",
       "       0.00000000e+00, 0.00000000e+00, 3.00612402e-03, 0.00000000e+00,\n",
       "       0.00000000e+00, 4.20428353e-03, 6.30377633e-03, 0.00000000e+00,\n",
       "       8.63851717e-02, 0.00000000e+00, 0.00000000e+00, 6.10335795e-03,\n",
       "       0.00000000e+00, 0.00000000e+00, 0.00000000e+00, 0.00000000e+00,\n",
       "       0.00000000e+00, 0.00000000e+00, 0.00000000e+00, 0.00000000e+00,\n",
       "       0.00000000e+00, 0.00000000e+00, 0.00000000e+00, 0.00000000e+00,\n",
       "       0.00000000e+00, 0.00000000e+00, 0.00000000e+00, 0.00000000e+00,\n",
       "       0.00000000e+00, 0.00000000e+00, 0.00000000e+00, 0.00000000e+00,\n",
       "       0.00000000e+00])"
      ]
     },
     "execution_count": 47,
     "metadata": {},
     "output_type": "execute_result"
    }
   ],
   "source": [
    "#Criando um array com um valor absoluto (sempre positivo) de todos os atributos\n",
    "importance = np.abs(coefficients)\n",
    "importance"
   ]
  },
  {
   "cell_type": "code",
   "execution_count": 48,
   "id": "1e89ea83",
   "metadata": {},
   "outputs": [
    {
     "data": {
      "text/plain": [
       "28"
      ]
     },
     "execution_count": 48,
     "metadata": {},
     "output_type": "execute_result"
    }
   ],
   "source": [
    "#Verificando quantos atributos são interessantes para nós (os que possuem valor maior do que zero)\n",
    "np.array(X)[importance > 0].size"
   ]
  },
  {
   "cell_type": "code",
   "execution_count": 52,
   "id": "6d610d5f",
   "metadata": {},
   "outputs": [],
   "source": [
    "#Criação de dataframes apenas com os melhores atributos e não mais todos eles\n",
    "df_data_melhores = df_data[np.array(X)[importance > 0]]\n",
    "df_eval_melhores = df_eval[np.array(X)[importance > 0]]"
   ]
  },
  {
   "cell_type": "code",
   "execution_count": 53,
   "id": "dd534544",
   "metadata": {},
   "outputs": [],
   "source": [
    "#Separando em treino e teste os dataframes criados acima\n",
    "X_train2, X_test2, y_train2, y_test2 = train_test_split(df_data_melhores, df_data[y], test_size=0.3, random_state=12)"
   ]
  },
  {
   "cell_type": "markdown",
   "id": "beb10c3a",
   "metadata": {},
   "source": [
    "<h1>Naive Baies</h1>"
   ]
  },
  {
   "cell_type": "code",
   "execution_count": null,
   "id": "375a8d60",
   "metadata": {
    "scrolled": false
   },
   "outputs": [],
   "source": [
    "naive = MultinomialNB()\n",
    "naive.fit(X_train2, y_train2)"
   ]
  },
  {
   "cell_type": "code",
   "execution_count": null,
   "id": "925fae4c",
   "metadata": {},
   "outputs": [],
   "source": [
    "metricas(naive , X_test2,y_test2)"
   ]
  },
  {
   "cell_type": "markdown",
   "id": "0623252e",
   "metadata": {},
   "source": [
    "<h1>Regressão logistica</h1>"
   ]
  },
  {
   "cell_type": "code",
   "execution_count": null,
   "id": "eca6fb26",
   "metadata": {},
   "outputs": [],
   "source": [
    "model = LogisticRegression(penalty='l2', C=1e42, solver='liblinear')"
   ]
  },
  {
   "cell_type": "code",
   "execution_count": null,
   "id": "30399a6f",
   "metadata": {
    "scrolled": false
   },
   "outputs": [],
   "source": [
    "model.fit(X_train2, y_train2)"
   ]
  },
  {
   "cell_type": "code",
   "execution_count": null,
   "id": "d5d6b5b7",
   "metadata": {
    "scrolled": false
   },
   "outputs": [],
   "source": [
    "metricas(model , X_test2,y_test2)"
   ]
  },
  {
   "cell_type": "markdown",
   "id": "e6f93867",
   "metadata": {},
   "source": [
    "<h1>KNN</h1>"
   ]
  },
  {
   "cell_type": "code",
   "execution_count": null,
   "id": "e8125445",
   "metadata": {},
   "outputs": [],
   "source": [
    "os.environ['KMP_DUPLICATE_LIB_OK'] = 'TRUE'"
   ]
  },
  {
   "cell_type": "code",
   "execution_count": null,
   "id": "c5471204",
   "metadata": {},
   "outputs": [],
   "source": [
    "knn = KNeighborsClassifier(n_neighbors=3)\n",
    "knn.fit(X_train2, y_train2)\n",
    "knn.predict(X_test2)\n",
    "print (knn.predict_proba(X_test2))"
   ]
  },
  {
   "cell_type": "code",
   "execution_count": null,
   "id": "ea10c351",
   "metadata": {
    "scrolled": false
   },
   "outputs": [],
   "source": [
    "metricas(knn, X_test2,y_test2)"
   ]
  },
  {
   "cell_type": "markdown",
   "id": "7873c552",
   "metadata": {},
   "source": [
    "# XGBoosting"
   ]
  },
  {
   "cell_type": "code",
   "execution_count": null,
   "id": "d4619029",
   "metadata": {
    "scrolled": true
   },
   "outputs": [],
   "source": [
    "xgb = XGBClassifier(objective='binary:logistic', subsample=.63, \n",
    "                    use_label_encoder=False, eval_metric='error')\n",
    "xgb.fit(X_train2, y_train2)"
   ]
  },
  {
   "cell_type": "code",
   "execution_count": null,
   "id": "46775ef8",
   "metadata": {
    "scrolled": false
   },
   "outputs": [],
   "source": [
    "metricas(xgb,X_test2,y_test2)"
   ]
  },
  {
   "cell_type": "markdown",
   "id": "2df0304a",
   "metadata": {},
   "source": [
    "<h1>Random Forest</h1>"
   ]
  },
  {
   "cell_type": "code",
   "execution_count": null,
   "id": "d86c5a41",
   "metadata": {
    "scrolled": true
   },
   "outputs": [],
   "source": [
    "rf = RandomForestClassifier(n_estimators=500, random_state=1,\n",
    "                                        criterion='entropy')\n",
    "rf.fit(X_train2, y_train2)"
   ]
  },
  {
   "cell_type": "code",
   "execution_count": null,
   "id": "8f7c092e",
   "metadata": {
    "scrolled": false
   },
   "outputs": [],
   "source": [
    "metricas(rf,X_test2,y_test2)"
   ]
  },
  {
   "cell_type": "markdown",
   "id": "6fd5d0bb",
   "metadata": {},
   "source": [
    "<h2>Tentativa de melhora do Random Forest</h2>"
   ]
  },
  {
   "cell_type": "code",
   "execution_count": null,
   "id": "1d2cea2b",
   "metadata": {
    "scrolled": true
   },
   "outputs": [],
   "source": [
    "random_search = {'criterion': ['entropy', 'gini'],\n",
    "               'max_depth': list(np.linspace(10, 1200, 10, dtype = int)) + [None],\n",
    "               'max_features': ['auto','log2', None],\n",
    "               'min_samples_leaf': [4, 6, 8, 12],\n",
    "               'min_samples_split': [5, 7, 10, 14],\n",
    "               'n_estimators': list(np.linspace(151, 1200, 10, dtype = int))}\n",
    "\n",
    "rf_hyper = RandomForestClassifier()\n",
    "model_hyper = RandomizedSearchCV(estimator = rf_hyper, param_distributions = random_search, n_iter = 30, \n",
    "                               cv = 3, verbose= 0, random_state= 12, n_jobs = -1)\n",
    "model_hyper.fit(X_train2,y_train2)"
   ]
  },
  {
   "cell_type": "code",
   "execution_count": null,
   "id": "fda31515",
   "metadata": {
    "scrolled": false
   },
   "outputs": [],
   "source": [
    "metricas(model_hyper.best_estimator_, X_test2,y_test2)"
   ]
  },
  {
   "cell_type": "markdown",
   "id": "d7706f2d",
   "metadata": {},
   "source": [
    "<h1>Treinando com os melhores atributos e efetuando balanceamento dos dados para baixo</h1>"
   ]
  },
  {
   "cell_type": "code",
   "execution_count": 54,
   "id": "a569d1f2",
   "metadata": {},
   "outputs": [],
   "source": [
    "#Utilizamos o RandomUnderSampler para balancear nossos datasets, ficando assim o nosso atributo alvo com a mesma quantidade\n",
    "#de valores, ajudando assim nos calculos de treinamento de modelos.\n",
    "rus = RandomUnderSampler()\n",
    "X_res, y_res = rus.fit_resample(X_train2, y_train2)"
   ]
  },
  {
   "cell_type": "code",
   "execution_count": 57,
   "id": "f8adc133",
   "metadata": {},
   "outputs": [
    {
     "data": {
      "text/plain": [
       "0    250\n",
       "1    250\n",
       "Name: 85, dtype: int64"
      ]
     },
     "execution_count": 57,
     "metadata": {},
     "output_type": "execute_result"
    }
   ],
   "source": [
    "#verificando a quantidade de valores do nosso atributo alvo\n",
    "y_res.value_counts()"
   ]
  },
  {
   "cell_type": "markdown",
   "id": "986b6749",
   "metadata": {},
   "source": [
    "<h1>Naive Baies </h1>"
   ]
  },
  {
   "cell_type": "code",
   "execution_count": null,
   "id": "c512ad25",
   "metadata": {
    "scrolled": false
   },
   "outputs": [],
   "source": [
    "naive = MultinomialNB()\n",
    "naive.fit(X_res, y_res)\n",
    "\n",
    "fitted = naive.predict(X_test2)"
   ]
  },
  {
   "cell_type": "code",
   "execution_count": null,
   "id": "c872a4df",
   "metadata": {},
   "outputs": [],
   "source": [
    "metricas(naive , X_test2,y_test2)"
   ]
  },
  {
   "cell_type": "markdown",
   "id": "5cfd0ee6",
   "metadata": {},
   "source": [
    "<h1>Regressão logistica</h1>"
   ]
  },
  {
   "cell_type": "code",
   "execution_count": null,
   "id": "c0329b9a",
   "metadata": {},
   "outputs": [],
   "source": [
    "model = LogisticRegression(penalty='l2', C=1e42, solver='liblinear')"
   ]
  },
  {
   "cell_type": "code",
   "execution_count": null,
   "id": "5d9e40d5",
   "metadata": {
    "scrolled": false
   },
   "outputs": [],
   "source": [
    "model.fit(X_res, y_res)"
   ]
  },
  {
   "cell_type": "code",
   "execution_count": null,
   "id": "6e627dcd",
   "metadata": {
    "scrolled": false
   },
   "outputs": [],
   "source": [
    "metricas(model , X_test2,y_test2)"
   ]
  },
  {
   "cell_type": "markdown",
   "id": "dc859ea6",
   "metadata": {},
   "source": [
    "<h1>KNN</h1>"
   ]
  },
  {
   "cell_type": "code",
   "execution_count": null,
   "id": "b21ec91e",
   "metadata": {},
   "outputs": [],
   "source": [
    "os.environ['KMP_DUPLICATE_LIB_OK'] = 'TRUE'"
   ]
  },
  {
   "cell_type": "code",
   "execution_count": null,
   "id": "46817d65",
   "metadata": {},
   "outputs": [],
   "source": [
    "knn = KNeighborsClassifier(n_neighbors=3)\n",
    "knn.fit(X_res, y_res)\n",
    "knn.predict(X_test2)\n",
    "print (knn.predict_proba(X_test2))"
   ]
  },
  {
   "cell_type": "code",
   "execution_count": null,
   "id": "faf3f64b",
   "metadata": {
    "scrolled": false
   },
   "outputs": [],
   "source": [
    "metricas(knn, X_test2,y_test2)"
   ]
  },
  {
   "cell_type": "markdown",
   "id": "32ce7331",
   "metadata": {},
   "source": [
    "# XGBoosting"
   ]
  },
  {
   "cell_type": "code",
   "execution_count": null,
   "id": "514cdeb8",
   "metadata": {
    "scrolled": true
   },
   "outputs": [],
   "source": [
    "xgb = XGBClassifier(objective='binary:logistic', subsample=.63, \n",
    "                    use_label_encoder=False, eval_metric='error')\n",
    "xgb.fit(X_res, y_res)"
   ]
  },
  {
   "cell_type": "code",
   "execution_count": null,
   "id": "419c5d5c",
   "metadata": {
    "scrolled": false
   },
   "outputs": [],
   "source": [
    "metricas(xgb,X_test2,y_test2)"
   ]
  },
  {
   "cell_type": "markdown",
   "id": "281586d5",
   "metadata": {},
   "source": [
    "<h1>Random Forest</h1>"
   ]
  },
  {
   "cell_type": "code",
   "execution_count": null,
   "id": "954e11b8",
   "metadata": {
    "scrolled": true
   },
   "outputs": [],
   "source": [
    "rf = RandomForestClassifier(n_estimators=500, random_state=1,\n",
    "                                        criterion='entropy')\n",
    "rf.fit(X_res, y_res)"
   ]
  },
  {
   "cell_type": "code",
   "execution_count": null,
   "id": "54d83c9f",
   "metadata": {
    "scrolled": false
   },
   "outputs": [],
   "source": [
    "metricas(rf,X_test2,y_test2)"
   ]
  },
  {
   "cell_type": "markdown",
   "id": "2fbc1af1",
   "metadata": {},
   "source": [
    "<h2>Tentativa de melhora do Random Forest</h2>"
   ]
  },
  {
   "cell_type": "code",
   "execution_count": null,
   "id": "5c4213c4",
   "metadata": {
    "scrolled": true
   },
   "outputs": [],
   "source": [
    "random_search = {'criterion': ['entropy', 'gini'],\n",
    "               'max_depth': list(np.linspace(10, 1200, 10, dtype = int)) + [None],\n",
    "               'max_features': ['auto','log2', None],\n",
    "               'min_samples_leaf': [4, 6, 8, 12],\n",
    "               'min_samples_split': [5, 7, 10, 14],\n",
    "               'n_estimators': list(np.linspace(151, 1200, 10, dtype = int))}\n",
    "\n",
    "rf_hyper = RandomForestClassifier()\n",
    "model_hyper = RandomizedSearchCV(estimator = rf_hyper, param_distributions = random_search, n_iter = 30, \n",
    "                               cv = 3, verbose= 0, random_state= 12, n_jobs = -1)\n",
    "model_hyper.fit(X_res, y_res)"
   ]
  },
  {
   "cell_type": "code",
   "execution_count": null,
   "id": "acc4aa44",
   "metadata": {
    "scrolled": false
   },
   "outputs": [],
   "source": [
    "metricas(model_hyper.best_estimator_, X_test2,y_test2)"
   ]
  },
  {
   "cell_type": "markdown",
   "id": "e81d9673",
   "metadata": {},
   "source": [
    "<h2>Com base nos modelos criados a partir do dicdata, concordamos que o melhor modelo apresentado foi o modelo utilizando XGBoosting com todos os dados</h2>"
   ]
  },
  {
   "cell_type": "markdown",
   "id": "ea411efa",
   "metadata": {},
   "source": [
    "<h3>Aplicando validação com o melhor modelo selecionado por nós</h3>"
   ]
  },
  {
   "cell_type": "code",
   "execution_count": 49,
   "id": "69e30a08",
   "metadata": {
    "scrolled": false
   },
   "outputs": [
    {
     "data": {
      "text/html": [
       "<style>#sk-container-id-7 {color: black;background-color: white;}#sk-container-id-7 pre{padding: 0;}#sk-container-id-7 div.sk-toggleable {background-color: white;}#sk-container-id-7 label.sk-toggleable__label {cursor: pointer;display: block;width: 100%;margin-bottom: 0;padding: 0.3em;box-sizing: border-box;text-align: center;}#sk-container-id-7 label.sk-toggleable__label-arrow:before {content: \"▸\";float: left;margin-right: 0.25em;color: #696969;}#sk-container-id-7 label.sk-toggleable__label-arrow:hover:before {color: black;}#sk-container-id-7 div.sk-estimator:hover label.sk-toggleable__label-arrow:before {color: black;}#sk-container-id-7 div.sk-toggleable__content {max-height: 0;max-width: 0;overflow: hidden;text-align: left;background-color: #f0f8ff;}#sk-container-id-7 div.sk-toggleable__content pre {margin: 0.2em;color: black;border-radius: 0.25em;background-color: #f0f8ff;}#sk-container-id-7 input.sk-toggleable__control:checked~div.sk-toggleable__content {max-height: 200px;max-width: 100%;overflow: auto;}#sk-container-id-7 input.sk-toggleable__control:checked~label.sk-toggleable__label-arrow:before {content: \"▾\";}#sk-container-id-7 div.sk-estimator input.sk-toggleable__control:checked~label.sk-toggleable__label {background-color: #d4ebff;}#sk-container-id-7 div.sk-label input.sk-toggleable__control:checked~label.sk-toggleable__label {background-color: #d4ebff;}#sk-container-id-7 input.sk-hidden--visually {border: 0;clip: rect(1px 1px 1px 1px);clip: rect(1px, 1px, 1px, 1px);height: 1px;margin: -1px;overflow: hidden;padding: 0;position: absolute;width: 1px;}#sk-container-id-7 div.sk-estimator {font-family: monospace;background-color: #f0f8ff;border: 1px dotted black;border-radius: 0.25em;box-sizing: border-box;margin-bottom: 0.5em;}#sk-container-id-7 div.sk-estimator:hover {background-color: #d4ebff;}#sk-container-id-7 div.sk-parallel-item::after {content: \"\";width: 100%;border-bottom: 1px solid gray;flex-grow: 1;}#sk-container-id-7 div.sk-label:hover label.sk-toggleable__label {background-color: #d4ebff;}#sk-container-id-7 div.sk-serial::before {content: \"\";position: absolute;border-left: 1px solid gray;box-sizing: border-box;top: 0;bottom: 0;left: 50%;z-index: 0;}#sk-container-id-7 div.sk-serial {display: flex;flex-direction: column;align-items: center;background-color: white;padding-right: 0.2em;padding-left: 0.2em;position: relative;}#sk-container-id-7 div.sk-item {position: relative;z-index: 1;}#sk-container-id-7 div.sk-parallel {display: flex;align-items: stretch;justify-content: center;background-color: white;position: relative;}#sk-container-id-7 div.sk-item::before, #sk-container-id-7 div.sk-parallel-item::before {content: \"\";position: absolute;border-left: 1px solid gray;box-sizing: border-box;top: 0;bottom: 0;left: 50%;z-index: -1;}#sk-container-id-7 div.sk-parallel-item {display: flex;flex-direction: column;z-index: 1;position: relative;background-color: white;}#sk-container-id-7 div.sk-parallel-item:first-child::after {align-self: flex-end;width: 50%;}#sk-container-id-7 div.sk-parallel-item:last-child::after {align-self: flex-start;width: 50%;}#sk-container-id-7 div.sk-parallel-item:only-child::after {width: 0;}#sk-container-id-7 div.sk-dashed-wrapped {border: 1px dashed gray;margin: 0 0.4em 0.5em 0.4em;box-sizing: border-box;padding-bottom: 0.4em;background-color: white;}#sk-container-id-7 div.sk-label label {font-family: monospace;font-weight: bold;display: inline-block;line-height: 1.2em;}#sk-container-id-7 div.sk-label-container {text-align: center;}#sk-container-id-7 div.sk-container {/* jupyter's `normalize.less` sets `[hidden] { display: none; }` but bootstrap.min.css set `[hidden] { display: none !important; }` so we also need the `!important` here to be able to override the default hidden behavior on the sphinx rendered scikit-learn.org. See: https://github.com/scikit-learn/scikit-learn/issues/21755 */display: inline-block !important;position: relative;}#sk-container-id-7 div.sk-text-repr-fallback {display: none;}</style><div id=\"sk-container-id-7\" class=\"sk-top-container\"><div class=\"sk-text-repr-fallback\"><pre>XGBClassifier(base_score=0.5, booster=&#x27;gbtree&#x27;, callbacks=None,\n",
       "              colsample_bylevel=1, colsample_bynode=1, colsample_bytree=1,\n",
       "              early_stopping_rounds=None, enable_categorical=False,\n",
       "              eval_metric=&#x27;error&#x27;, gamma=0, gpu_id=-1, grow_policy=&#x27;depthwise&#x27;,\n",
       "              importance_type=None, interaction_constraints=&#x27;&#x27;,\n",
       "              learning_rate=0.300000012, max_bin=256, max_cat_to_onehot=4,\n",
       "              max_delta_step=0, max_depth=6, max_leaves=0, min_child_weight=1,\n",
       "              missing=nan, monotone_constraints=&#x27;()&#x27;, n_estimators=100,\n",
       "              n_jobs=0, num_parallel_tree=1, predictor=&#x27;auto&#x27;, random_state=0,\n",
       "              reg_alpha=0, reg_lambda=1, ...)</pre><b>In a Jupyter environment, please rerun this cell to show the HTML representation or trust the notebook. <br />On GitHub, the HTML representation is unable to render, please try loading this page with nbviewer.org.</b></div><div class=\"sk-container\" hidden><div class=\"sk-item\"><div class=\"sk-estimator sk-toggleable\"><input class=\"sk-toggleable__control sk-hidden--visually\" id=\"sk-estimator-id-9\" type=\"checkbox\" checked><label for=\"sk-estimator-id-9\" class=\"sk-toggleable__label sk-toggleable__label-arrow\">XGBClassifier</label><div class=\"sk-toggleable__content\"><pre>XGBClassifier(base_score=0.5, booster=&#x27;gbtree&#x27;, callbacks=None,\n",
       "              colsample_bylevel=1, colsample_bynode=1, colsample_bytree=1,\n",
       "              early_stopping_rounds=None, enable_categorical=False,\n",
       "              eval_metric=&#x27;error&#x27;, gamma=0, gpu_id=-1, grow_policy=&#x27;depthwise&#x27;,\n",
       "              importance_type=None, interaction_constraints=&#x27;&#x27;,\n",
       "              learning_rate=0.300000012, max_bin=256, max_cat_to_onehot=4,\n",
       "              max_delta_step=0, max_depth=6, max_leaves=0, min_child_weight=1,\n",
       "              missing=nan, monotone_constraints=&#x27;()&#x27;, n_estimators=100,\n",
       "              n_jobs=0, num_parallel_tree=1, predictor=&#x27;auto&#x27;, random_state=0,\n",
       "              reg_alpha=0, reg_lambda=1, ...)</pre></div></div></div></div></div>"
      ],
      "text/plain": [
       "XGBClassifier(base_score=0.5, booster='gbtree', callbacks=None,\n",
       "              colsample_bylevel=1, colsample_bynode=1, colsample_bytree=1,\n",
       "              early_stopping_rounds=None, enable_categorical=False,\n",
       "              eval_metric='error', gamma=0, gpu_id=-1, grow_policy='depthwise',\n",
       "              importance_type=None, interaction_constraints='',\n",
       "              learning_rate=0.300000012, max_bin=256, max_cat_to_onehot=4,\n",
       "              max_delta_step=0, max_depth=6, max_leaves=0, min_child_weight=1,\n",
       "              missing=nan, monotone_constraints='()', n_estimators=100,\n",
       "              n_jobs=0, num_parallel_tree=1, predictor='auto', random_state=0,\n",
       "              reg_alpha=0, reg_lambda=1, ...)"
      ]
     },
     "execution_count": 49,
     "metadata": {},
     "output_type": "execute_result"
    }
   ],
   "source": [
    "xgb = XGBClassifier(objective='binary:logistic', subsample=.63, \n",
    "                    use_label_encoder=False, eval_metric='error')\n",
    "xgb.fit(X_train, y_train)"
   ]
  },
  {
   "cell_type": "markdown",
   "id": "d82c7435",
   "metadata": {},
   "source": [
    "<h4>Verificando resultado de treinamento com melhor modelo</h4>"
   ]
  },
  {
   "cell_type": "code",
   "execution_count": 50,
   "id": "41315fc8",
   "metadata": {
    "scrolled": false
   },
   "outputs": [
    {
     "name": "stdout",
     "output_type": "stream",
     "text": [
      "cross validate :  {'fit_time': array([0.71891236, 0.75313783, 0.71106935, 0.70910358]), 'score_time': array([0.01595712, 0.01200056, 0.01196837, 0.01199937]), 'test_score': array([0.926, 0.918, 0.923, 0.915])}\n",
      "\n",
      "Matriz de confusão :  \n",
      " [[3673   89]\n",
      " [ 220   18]]\n",
      "\n",
      "Recall :  \n",
      " 0.5259863115900267\n",
      "\n",
      "Precision :  \n",
      " 0.5558563057104652\n",
      "\n",
      "F1 - Macro :  \n",
      " 0.5319910260415187\n",
      "\n",
      "AUC :  \n",
      " 0.6720907661310138\n",
      "\n",
      "              precision    recall  f1-score   support\n",
      "\n",
      "           0       0.94      0.98      0.96      3762\n",
      "           1       0.17      0.08      0.10       238\n",
      "\n",
      "    accuracy                           0.92      4000\n",
      "   macro avg       0.56      0.53      0.53      4000\n",
      "weighted avg       0.90      0.92      0.91      4000\n",
      "\n"
     ]
    },
    {
     "name": "stderr",
     "output_type": "stream",
     "text": [
      "C:\\Users\\Marcos Tamas\\anaconda3\\lib\\site-packages\\sklearn\\metrics\\_ranking.py:1016: UndefinedMetricWarning: No positive samples in y_true, true positive value should be meaningless\n",
      "  warnings.warn(\n"
     ]
    },
    {
     "data": {
      "image/png": "[encoded data removed]",
      "text/plain": [
       "<Figure size 432x288 with 1 Axes>"
      ]
     },
     "metadata": {
      "needs_background": "light"
     },
     "output_type": "display_data"
    }
   ],
   "source": [
    "metricas(xgb,df_eval,df_tgts[0])"
   ]
  },
  {
   "cell_type": "markdown",
   "id": "d77fa5cf",
   "metadata": {},
   "source": [
    "<h3>Referencias</h3>\n",
    "\n",
    "https://scikit-learn.org/stable/tutorial/machine_learning_map/<br>\n",
    "https://scikit-learn.org/stable/modules/cross_validation.html <br>\n",
    "http://neylsoncrepalde.github.io/2019-11-25-regressao_logistica_python/ <br>\n",
    "https://sigmoidal.ai/como-lidar-com-dados-desbalanceados/ <br>\n",
    "https://scikit-learn.org/stable/modules/generated/sklearn.model_selection.GridSearchCV.html <br>\n",
    "https://www.yourdatateacher.com/2021/05/05/feature-selection-in-machine-learning-using-lasso-regression/ <br>"
   ]
  }
 ],
 "metadata": {
  "kernelspec": {
   "display_name": "Python 3 (ipykernel)",
   "language": "python",
   "name": "python3"
  },
  "language_info": {
   "codemirror_mode": {
    "name": "ipython",
    "version": 3
   },
   "file_extension": ".py",
   "mimetype": "text/x-python",
   "name": "python",
   "nbconvert_exporter": "python",
   "pygments_lexer": "ipython3",
   "version": "3.9.7"
  }
 },
 "nbformat": 4,
 "nbformat_minor": 5
}
