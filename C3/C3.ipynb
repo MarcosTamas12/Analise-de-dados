{
 "cells": [
  {
   "cell_type": "markdown",
   "id": "00c2379b",
   "metadata": {},
   "source": [
    "!pip install dmba"
   ]
  },
  {
   "cell_type": "code",
   "execution_count": 1,
   "id": "ad871dcd",
   "metadata": {
    "scrolled": true
   },
   "outputs": [],
   "source": [
    "#from imblearn.over_sampling import SMOTE\n",
    "import statistics as st\n",
    "import numpy as np\n",
    "import pandas as pd\n",
    "from scipy.stats import variation\n",
    "import matplotlib.pylab as plt\n",
    "from sklearn import preprocessing\n",
    "from sklearn.naive_bayes import MultinomialNB\n",
    "from sklearn.linear_model import LogisticRegression\n",
    "from sklearn.metrics import recall_score\n",
    "from sklearn.metrics import precision_score\n",
    "from sklearn import metrics\n",
    "from sklearn.metrics import roc_curve, accuracy_score, roc_auc_score\n",
    "from sklearn.metrics import confusion_matrix, precision_recall_fscore_support, auc, classification_report\n",
    "                            \n",
    "from sklearn.model_selection import train_test_split\n",
    "from sklearn.linear_model import LinearRegression\n",
    "from sklearn.metrics import r2_score\n",
    "import seaborn as sn\n",
    "from sklearn import svm\n",
    "from sklearn.model_selection import cross_val_score\n",
    "from sklearn.utils import resample\n",
    "from sklearn.datasets import make_classification\n",
    "from dmba import plotDecisionTree, textDecisionTree\n",
    "from sklearn.tree import DecisionTreeClassifier\n",
    "import math\n",
    "\n",
    "from sklearn import preprocessing\n",
    "from sklearn.neighbors import KNeighborsClassifier\n",
    "from sklearn.model_selection import train_test_split\n",
    "from sklearn.tree import DecisionTreeClassifier\n",
    "from sklearn.ensemble import RandomForestClassifier\n",
    "from itertools import zip_longest\n",
    "from matplotlib.patches import Ellipse\n",
    "\n",
    "from sklearn.model_selection import cross_validate\n",
    "#model_selection.cross_validate\n",
    "\n",
    "import os\n",
    "import random\n",
    "from collections import defaultdict\n",
    "from itertools import product"
   ]
  },
  {
   "cell_type": "code",
   "execution_count": 2,
   "id": "75b46963",
   "metadata": {},
   "outputs": [],
   "source": [
    "df_data = pd.read_csv('ticdata2000.txt',sep='\\t', header = None)\n",
    "df_eval = pd.read_csv('ticeval2000.txt',sep='\\t', header = None)\n",
    "df_tgts = pd.read_csv('tictgts2000.txt',sep='\\t', header = None)\n"
   ]
  },
  {
   "cell_type": "code",
   "execution_count": 3,
   "id": "4853c2e2",
   "metadata": {
    "scrolled": true
   },
   "outputs": [
    {
     "data": {
      "text/plain": [
       "Int64Index([ 0,  1,  2,  3,  4,  5,  6,  7,  8,  9, 10, 11, 12, 13, 14, 15, 16,\n",
       "            17, 18, 19, 20, 21, 22, 23, 24, 25, 26, 27, 28, 29, 30, 31, 32, 33,\n",
       "            34, 35, 36, 37, 38, 39, 40, 41, 42, 43, 44, 45, 46, 47, 48, 49, 50,\n",
       "            51, 52, 53, 54, 55, 56, 57, 58, 59, 60, 61, 62, 63, 64, 65, 66, 67,\n",
       "            68, 69, 70, 71, 72, 73, 74, 75, 76, 77, 78, 79, 80, 81, 82, 83, 84,\n",
       "            85],\n",
       "           dtype='int64')"
      ]
     },
     "execution_count": 3,
     "metadata": {},
     "output_type": "execute_result"
    }
   ],
   "source": [
    "df_data.columns"
   ]
  },
  {
   "cell_type": "code",
   "execution_count": 4,
   "id": "93a62bc5",
   "metadata": {},
   "outputs": [],
   "source": [
    "X = [0,  1,  2,  3,  4,  5,  6,  7,  8,  9, 10, 11, 12, 13, 14, 15, 16,\n",
    "            17, 18, 19, 20, 21, 22, 23, 24, 25, 26, 27, 28, 29, 30, 31, 32, 33,\n",
    "            34, 35, 36, 37, 38, 39, 40, 41, 42, 43, 44, 45, 46, 47, 48, 49, 50,\n",
    "            51, 52, 53, 54, 55, 56, 57, 58, 59, 60, 61, 62, 63, 64, 65, 66, 67,\n",
    "            68, 69, 70, 71, 72, 73, 74, 75, 76, 77, 78, 79, 80, 81, 82, 83, 84]\n",
    "y = 85"
   ]
  },
  {
   "cell_type": "code",
   "execution_count": 6,
   "id": "4aec470d",
   "metadata": {},
   "outputs": [],
   "source": [
    "X_train, X_test, y_train, y_test = train_test_split(df_data[X], df_data[y], test_size=0.3, random_state=42)"
   ]
  },
  {
   "cell_type": "markdown",
   "id": "979d6bf9",
   "metadata": {},
   "source": [
    "Código para efetuar cross validation\n",
    "\n",
    "scores = cross_val_score(clf, df_data[X], df_data[y], cv=5)\n",
    "scores\n",
    "\n",
    "print(\"%0.2f accuracy with a standard deviation of %0.2f\" % (scores.mean(), scores.std()))"
   ]
  },
  {
   "cell_type": "markdown",
   "id": "1e19a990",
   "metadata": {},
   "source": [
    "<h1>Naive Baies</h1>"
   ]
  },
  {
   "cell_type": "code",
   "execution_count": 6,
   "id": "2a3a49aa",
   "metadata": {
    "scrolled": false
   },
   "outputs": [],
   "source": [
    "naive = MultinomialNB()\n",
    "naive.fit(X_test, y_test)\n",
    "\n",
    "fitted = naive.predict(df_eval)"
   ]
  },
  {
   "cell_type": "code",
   "execution_count": 7,
   "id": "b0337356",
   "metadata": {},
   "outputs": [
    {
     "data": {
      "text/plain": [
       "array([0.73733906, 0.75450644, 0.78350515, 0.75      , 0.76030928])"
      ]
     },
     "execution_count": 7,
     "metadata": {},
     "output_type": "execute_result"
    }
   ],
   "source": [
    "scores = cross_val_score(naive, df_data[X], df_data[y], cv=5)\n",
    "scores"
   ]
  },
  {
   "cell_type": "code",
   "execution_count": 8,
   "id": "7431bd94",
   "metadata": {
    "scrolled": false
   },
   "outputs": [
    {
     "name": "stdout",
     "output_type": "stream",
     "text": [
      "Recall =  0.6245303544065154\n",
      "Precision =  0.5376996705729286\n",
      "AUC =  0.6809626561948543\n"
     ]
    },
    {
     "name": "stderr",
     "output_type": "stream",
     "text": [
      "C:\\Users\\Marcos Tamas\\anaconda3\\lib\\site-packages\\sklearn\\metrics\\_ranking.py:1016: UndefinedMetricWarning: No positive samples in y_true, true positive value should be meaningless\n",
      "  warnings.warn(\n"
     ]
    },
    {
     "data": {
      "image/png": "[encoded data removed]",
      "text/plain": [
       "<Figure size 432x288 with 1 Axes>"
      ]
     },
     "metadata": {
      "needs_background": "light"
     },
     "output_type": "display_data"
    }
   ],
   "source": [
    "prob = naive.predict_proba(df_eval)\n",
    "prob = prob[:, 1]\n",
    "print('Recall = ', recall_score(df_tgts, fitted, average='macro'))\n",
    "\n",
    "print('Precision = ' ,precision_score(df_tgts, fitted, average='macro'))\n",
    "\n",
    "fpr, tpr, thresholds = metrics.roc_curve(df_tgts, fitted, pos_label=2)\n",
    "print('AUC = ', metrics.roc_auc_score(df_tgts, prob))\n",
    "\n",
    "\n",
    "def plot_roc_curve(fper, tper):\n",
    "    plt.plot(fper, tper, color='red', label='ROC')\n",
    "    plt.plot([0, 1], [0, 1], color='green', linestyle='--')\n",
    "    plt.xlabel('False Positive Rate')\n",
    "    plt.ylabel('True Positive Rate')\n",
    "    plt.title('Receiver Operating Characteristic Curve')\n",
    "    plt.legend()\n",
    "    plt.show()\n",
    "\n",
    "\n",
    "\n",
    "fper, tper, thresholds = roc_curve(df_tgts, prob)\n",
    "plot_roc_curve(fper, tper)"
   ]
  },
  {
   "cell_type": "markdown",
   "id": "f726902b",
   "metadata": {},
   "source": [
    "<h1>Regressão logistica</h1>"
   ]
  },
  {
   "cell_type": "code",
   "execution_count": 12,
   "id": "cdaebdad",
   "metadata": {},
   "outputs": [],
   "source": [
    "model = LogisticRegression(penalty='l2', C=1e42, solver='liblinear')"
   ]
  },
  {
   "cell_type": "code",
   "execution_count": 13,
   "id": "b945a0be",
   "metadata": {
    "scrolled": true
   },
   "outputs": [
    {
     "data": {
      "text/html": [
       "<style>#sk-container-id-1 {color: black;background-color: white;}#sk-container-id-1 pre{padding: 0;}#sk-container-id-1 div.sk-toggleable {background-color: white;}#sk-container-id-1 label.sk-toggleable__label {cursor: pointer;display: block;width: 100%;margin-bottom: 0;padding: 0.3em;box-sizing: border-box;text-align: center;}#sk-container-id-1 label.sk-toggleable__label-arrow:before {content: \"▸\";float: left;margin-right: 0.25em;color: #696969;}#sk-container-id-1 label.sk-toggleable__label-arrow:hover:before {color: black;}#sk-container-id-1 div.sk-estimator:hover label.sk-toggleable__label-arrow:before {color: black;}#sk-container-id-1 div.sk-toggleable__content {max-height: 0;max-width: 0;overflow: hidden;text-align: left;background-color: #f0f8ff;}#sk-container-id-1 div.sk-toggleable__content pre {margin: 0.2em;color: black;border-radius: 0.25em;background-color: #f0f8ff;}#sk-container-id-1 input.sk-toggleable__control:checked~div.sk-toggleable__content {max-height: 200px;max-width: 100%;overflow: auto;}#sk-container-id-1 input.sk-toggleable__control:checked~label.sk-toggleable__label-arrow:before {content: \"▾\";}#sk-container-id-1 div.sk-estimator input.sk-toggleable__control:checked~label.sk-toggleable__label {background-color: #d4ebff;}#sk-container-id-1 div.sk-label input.sk-toggleable__control:checked~label.sk-toggleable__label {background-color: #d4ebff;}#sk-container-id-1 input.sk-hidden--visually {border: 0;clip: rect(1px 1px 1px 1px);clip: rect(1px, 1px, 1px, 1px);height: 1px;margin: -1px;overflow: hidden;padding: 0;position: absolute;width: 1px;}#sk-container-id-1 div.sk-estimator {font-family: monospace;background-color: #f0f8ff;border: 1px dotted black;border-radius: 0.25em;box-sizing: border-box;margin-bottom: 0.5em;}#sk-container-id-1 div.sk-estimator:hover {background-color: #d4ebff;}#sk-container-id-1 div.sk-parallel-item::after {content: \"\";width: 100%;border-bottom: 1px solid gray;flex-grow: 1;}#sk-container-id-1 div.sk-label:hover label.sk-toggleable__label {background-color: #d4ebff;}#sk-container-id-1 div.sk-serial::before {content: \"\";position: absolute;border-left: 1px solid gray;box-sizing: border-box;top: 0;bottom: 0;left: 50%;z-index: 0;}#sk-container-id-1 div.sk-serial {display: flex;flex-direction: column;align-items: center;background-color: white;padding-right: 0.2em;padding-left: 0.2em;position: relative;}#sk-container-id-1 div.sk-item {position: relative;z-index: 1;}#sk-container-id-1 div.sk-parallel {display: flex;align-items: stretch;justify-content: center;background-color: white;position: relative;}#sk-container-id-1 div.sk-item::before, #sk-container-id-1 div.sk-parallel-item::before {content: \"\";position: absolute;border-left: 1px solid gray;box-sizing: border-box;top: 0;bottom: 0;left: 50%;z-index: -1;}#sk-container-id-1 div.sk-parallel-item {display: flex;flex-direction: column;z-index: 1;position: relative;background-color: white;}#sk-container-id-1 div.sk-parallel-item:first-child::after {align-self: flex-end;width: 50%;}#sk-container-id-1 div.sk-parallel-item:last-child::after {align-self: flex-start;width: 50%;}#sk-container-id-1 div.sk-parallel-item:only-child::after {width: 0;}#sk-container-id-1 div.sk-dashed-wrapped {border: 1px dashed gray;margin: 0 0.4em 0.5em 0.4em;box-sizing: border-box;padding-bottom: 0.4em;background-color: white;}#sk-container-id-1 div.sk-label label {font-family: monospace;font-weight: bold;display: inline-block;line-height: 1.2em;}#sk-container-id-1 div.sk-label-container {text-align: center;}#sk-container-id-1 div.sk-container {/* jupyter's `normalize.less` sets `[hidden] { display: none; }` but bootstrap.min.css set `[hidden] { display: none !important; }` so we also need the `!important` here to be able to override the default hidden behavior on the sphinx rendered scikit-learn.org. See: https://github.com/scikit-learn/scikit-learn/issues/21755 */display: inline-block !important;position: relative;}#sk-container-id-1 div.sk-text-repr-fallback {display: none;}</style><div id=\"sk-container-id-1\" class=\"sk-top-container\"><div class=\"sk-text-repr-fallback\"><pre>LogisticRegression(C=1e+42, solver=&#x27;liblinear&#x27;)</pre><b>In a Jupyter environment, please rerun this cell to show the HTML representation or trust the notebook. <br />On GitHub, the HTML representation is unable to render, please try loading this page with nbviewer.org.</b></div><div class=\"sk-container\" hidden><div class=\"sk-item\"><div class=\"sk-estimator sk-toggleable\"><input class=\"sk-toggleable__control sk-hidden--visually\" id=\"sk-estimator-id-1\" type=\"checkbox\" checked><label for=\"sk-estimator-id-1\" class=\"sk-toggleable__label sk-toggleable__label-arrow\">LogisticRegression</label><div class=\"sk-toggleable__content\"><pre>LogisticRegression(C=1e+42, solver=&#x27;liblinear&#x27;)</pre></div></div></div></div></div>"
      ],
      "text/plain": [
       "LogisticRegression(C=1e+42, solver='liblinear')"
      ]
     },
     "execution_count": 13,
     "metadata": {},
     "output_type": "execute_result"
    }
   ],
   "source": [
    "model.fit(X_test, y_test)"
   ]
  },
  {
   "cell_type": "code",
   "execution_count": 14,
   "id": "259b98b8",
   "metadata": {},
   "outputs": [
    {
     "data": {
      "text/plain": [
       "array([0.93476395, 0.93648069, 0.94158076, 0.9347079 , 0.93900344])"
      ]
     },
     "execution_count": 14,
     "metadata": {},
     "output_type": "execute_result"
    }
   ],
   "source": [
    "scores = cross_val_score(model, df_data[X], df_data[y], cv=5)\n",
    "scores"
   ]
  },
  {
   "cell_type": "code",
   "execution_count": 15,
   "id": "23f3e531",
   "metadata": {
    "scrolled": true
   },
   "outputs": [],
   "source": [
    "yhat = model.predict_proba(df_eval)"
   ]
  },
  {
   "cell_type": "code",
   "execution_count": 16,
   "id": "978ddbf3",
   "metadata": {},
   "outputs": [],
   "source": [
    "yhat = yhat[:, 1]"
   ]
  },
  {
   "cell_type": "code",
   "execution_count": 18,
   "id": "508d711b",
   "metadata": {
    "scrolled": false
   },
   "outputs": [
    {
     "data": {
      "text/plain": [
       "array([[3721,   41],\n",
       "       [ 223,   15]], dtype=int64)"
      ]
     },
     "execution_count": 18,
     "metadata": {},
     "output_type": "execute_result"
    }
   ],
   "source": [
    "confusion_matrix(df_tgts, model.predict(df_eval))"
   ]
  },
  {
   "cell_type": "code",
   "execution_count": 19,
   "id": "c7edc29e",
   "metadata": {
    "scrolled": false
   },
   "outputs": [
    {
     "name": "stdout",
     "output_type": "stream",
     "text": [
      "O modelo obteve 0.9340 de acurácia.\n"
     ]
    }
   ],
   "source": [
    "acuracia = accuracy_score(df_tgts, model.predict(df_eval))\n",
    "print('O modelo obteve %0.4f de acurácia.' % acuracia)"
   ]
  },
  {
   "cell_type": "code",
   "execution_count": 20,
   "id": "54713a22",
   "metadata": {
    "scrolled": false
   },
   "outputs": [
    {
     "name": "stdout",
     "output_type": "stream",
     "text": [
      "              precision    recall  f1-score   support\n",
      "\n",
      "           0       0.94      0.99      0.97      3762\n",
      "           1       0.27      0.06      0.10       238\n",
      "\n",
      "    accuracy                           0.93      4000\n",
      "   macro avg       0.61      0.53      0.53      4000\n",
      "weighted avg       0.90      0.93      0.91      4000\n",
      "\n"
     ]
    }
   ],
   "source": [
    "print(classification_report(df_tgts, model.predict(df_eval)))"
   ]
  },
  {
   "cell_type": "code",
   "execution_count": 21,
   "id": "6c564e94",
   "metadata": {},
   "outputs": [
    {
     "name": "stdout",
     "output_type": "stream",
     "text": [
      "AUC: 0.70\n"
     ]
    }
   ],
   "source": [
    "print('AUC: %0.2f' % roc_auc_score(df_tgts, yhat))"
   ]
  },
  {
   "cell_type": "code",
   "execution_count": 18,
   "id": "eadc0e87",
   "metadata": {},
   "outputs": [],
   "source": [
    "def plot_roc_curve(y_true, y_score, figsize=(10,6)):\n",
    "    fpr, tpr, _ = roc_curve(y_true, y_score)\n",
    "    plt.figure(figsize=figsize)\n",
    "    auc_value = roc_auc_score(y_true, y_score)\n",
    "    plt.plot(fpr, tpr, color='orange', label='ROC curve (area = %0.2f)' % auc_value)\n",
    "    plt.plot([0, 1], [0, 1], color='darkblue', linestyle='--')\n",
    "    plt.xlabel('False Positive Rate')\n",
    "    plt.ylabel('True Positive Rate')\n",
    "    plt.title('Receiver Operating Characteristic (ROC) Curve')\n",
    "    plt.legend()\n",
    "    plt.show()"
   ]
  },
  {
   "cell_type": "code",
   "execution_count": 19,
   "id": "e0d67ac0",
   "metadata": {},
   "outputs": [
    {
     "data": {
      "image/png": "[encoded data removed]",
      "text/plain": [
       "<Figure size 720x432 with 1 Axes>"
      ]
     },
     "metadata": {
      "needs_background": "light"
     },
     "output_type": "display_data"
    }
   ],
   "source": [
    "plot_roc_curve(df_tgts, yhat)"
   ]
  },
  {
   "cell_type": "markdown",
   "id": "9cabf43a",
   "metadata": {},
   "source": [
    "<h1>Arvore de decisão</h1>"
   ]
  },
  {
   "cell_type": "markdown",
   "id": "db855e07",
   "metadata": {},
   "source": [
    "X = predictors = df_data[X]\n",
    "y = df_data[y]\n",
    "\n",
    "data_tree = DecisionTreeClassifier(random_state=1, criterion='entropy',\n",
    "                                   min_impurity_decrease=0.003)\n",
    "data_tree.fit(X, y)\n",
    "plotDecisionTree(data_tree, feature_names=predictors, class_names=data_tree.classes_)"
   ]
  },
  {
   "cell_type": "markdown",
   "id": "cff23efa",
   "metadata": {
    "scrolled": true
   },
   "source": [
    "print(textDecisionTree(data_tree))"
   ]
  },
  {
   "cell_type": "markdown",
   "id": "ae01e501",
   "metadata": {},
   "source": [
    "def entropyFunction(x):\n",
    "    if x == 0: return 0\n",
    "    return -x * math.log(x, 2) - (1 - x) * math.log(1 - x, 2)\n",
    "\n",
    "def giniFunction(x):\n",
    "    return x * (1 - x)"
   ]
  },
  {
   "cell_type": "markdown",
   "id": "aa2ab42f",
   "metadata": {
    "scrolled": false
   },
   "source": [
    "x = np.linspace(0, 0.5, 50)\n",
    "impure = pd.DataFrame({\n",
    "    'x': x,\n",
    "    'Accuracy': 2 * x,\n",
    "    'Gini': [giniFunction(xi) / giniFunction(.5) for xi in x],\n",
    "    'Entropy': [entropyFunction(xi) for xi in x],\n",
    "})\n",
    "\n",
    "fig, ax = plt.subplots(figsize=(10, 10))\n",
    "\n",
    "impure.plot(x='x', y='Accuracy', ax=ax, linestyle='solid')\n",
    "impure.plot(x='x', y='Entropy', ax=ax, linestyle='--')\n",
    "impure.plot(x='x', y='Gini', ax=ax, linestyle=':')\n",
    "\n",
    "plt.tight_layout()\n",
    "plt.show()"
   ]
  },
  {
   "cell_type": "markdown",
   "id": "2a72522a",
   "metadata": {
    "scrolled": true
   },
   "source": [
    "data_tree = DecisionTreeClassifier(random_state=1, criterion='entropy',\n",
    "                                   min_impurity_decrease=0.003)\n",
    "data_tree.fit(X_train, y_train)"
   ]
  },
  {
   "cell_type": "markdown",
   "id": "ed5da7b6",
   "metadata": {
    "scrolled": false
   },
   "source": [
    "confusion_matrix(df_tgts, data_tree.predict(df_eval))"
   ]
  },
  {
   "cell_type": "markdown",
   "id": "3315389b",
   "metadata": {},
   "source": [
    "conf_mat = confusion_matrix(df_tgts, data_tree.predict(df_eval))"
   ]
  },
  {
   "cell_type": "markdown",
   "id": "3df299dc",
   "metadata": {},
   "source": [
    "\n",
    "print('Precision', conf_mat[0, 0] / sum(conf_mat[:, 0]))\n",
    "print('Recall', conf_mat[0, 0] / sum(conf_mat[0, :]))\n",
    "print('Specificity', conf_mat[1, 1] / sum(conf_mat[1, :]))"
   ]
  },
  {
   "cell_type": "markdown",
   "id": "61fc6834",
   "metadata": {},
   "source": [
    "fpr, tpr, thresholds = roc_curve(df_tgts, data_tree.predict_proba(X_test)[:,0], \n",
    "                                 pos_label='default')\n",
    "roc_df = pd.DataFrame({'recall': tpr, 'specificity': 1 - fpr})"
   ]
  },
  {
   "cell_type": "markdown",
   "id": "12f3956b",
   "metadata": {},
   "source": [
    "<h1>KNN</h1>"
   ]
  },
  {
   "cell_type": "code",
   "execution_count": 23,
   "id": "bca7fdd5",
   "metadata": {},
   "outputs": [],
   "source": [
    "os.environ['KMP_DUPLICATE_LIB_OK'] = 'TRUE'"
   ]
  },
  {
   "cell_type": "code",
   "execution_count": 27,
   "id": "a7ad7c6a",
   "metadata": {},
   "outputs": [
    {
     "name": "stdout",
     "output_type": "stream",
     "text": [
      "[[1.   0.  ]\n",
      " [0.8  0.2 ]\n",
      " [0.9  0.1 ]\n",
      " ...\n",
      " [1.   0.  ]\n",
      " [0.85 0.15]\n",
      " [0.9  0.1 ]]\n"
     ]
    }
   ],
   "source": [
    "predictors = df_data[X]\n",
    "outcome = df_data[y]\n",
    "\n",
    "knn = KNeighborsClassifier(n_neighbors=20)\n",
    "knn.fit(df_data[X], df_data[y])\n",
    "knn.predict(df_eval)\n",
    "print (knn.predict_proba(df_eval))\n",
    "\n",
    "fitted3 = knn.predict(df_eval)"
   ]
  },
  {
   "cell_type": "code",
   "execution_count": 30,
   "id": "faff8370",
   "metadata": {
    "scrolled": true
   },
   "outputs": [
    {
     "name": "stdout",
     "output_type": "stream",
     "text": [
      "[[3762    0]\n",
      " [ 238    0]]\n"
     ]
    }
   ],
   "source": [
    "print(confusion_matrix(df_tgts, fitted3 ))"
   ]
  },
  {
   "cell_type": "code",
   "execution_count": 10,
   "id": "29218e7c",
   "metadata": {
    "scrolled": true
   },
   "outputs": [
    {
     "data": {
      "text/plain": [
       "array([0.93991416, 0.93991416, 0.94072165, 0.94072165, 0.93986254])"
      ]
     },
     "execution_count": 10,
     "metadata": {},
     "output_type": "execute_result"
    }
   ],
   "source": [
    "scoresknn = cross_val_score(knn, df_data[X], df_data[y], cv=5)\n",
    "scoresknn"
   ]
  },
  {
   "cell_type": "code",
   "execution_count": 11,
   "id": "096fe2bd",
   "metadata": {
    "scrolled": false
   },
   "outputs": [
    {
     "name": "stdout",
     "output_type": "stream",
     "text": [
      "Recall =  0.5\n",
      "Precision =  0.47025\n",
      "AUC =  0.6564936181809247\n"
     ]
    },
    {
     "name": "stderr",
     "output_type": "stream",
     "text": [
      "C:\\Users\\Marcos Tamas\\anaconda3\\lib\\site-packages\\sklearn\\metrics\\_classification.py:1327: UndefinedMetricWarning: Precision is ill-defined and being set to 0.0 in labels with no predicted samples. Use `zero_division` parameter to control this behavior.\n",
      "  _warn_prf(average, modifier, msg_start, len(result))\n",
      "C:\\Users\\Marcos Tamas\\anaconda3\\lib\\site-packages\\sklearn\\metrics\\_ranking.py:1016: UndefinedMetricWarning: No positive samples in y_true, true positive value should be meaningless\n",
      "  warnings.warn(\n"
     ]
    },
    {
     "data": {
      "image/png": "[encoded data removed]",
      "text/plain": [
       "<Figure size 432x288 with 1 Axes>"
      ]
     },
     "metadata": {
      "needs_background": "light"
     },
     "output_type": "display_data"
    }
   ],
   "source": [
    "prob= knn.predict_proba(df_eval)\n",
    "prob = prob[:, 1]\n",
    "print('Recall = ', recall_score(df_tgts, fitted, average='macro'))\n",
    "\n",
    "print('Precision = ' ,precision_score(df_tgts, fitted, average='macro'))\n",
    "\n",
    "fpr, tpr, thresholds = metrics.roc_curve(df_tgts, fitted, pos_label=2)\n",
    "print('AUC = ', metrics.roc_auc_score(df_tgts, prob))\n",
    "\n",
    "\n",
    "def plot_roc_curve(fper, tper):\n",
    "    plt.plot(fper, tper, color='red', label='ROC')\n",
    "    plt.plot([0, 1], [0, 1], color='green', linestyle='--')\n",
    "    plt.xlabel('False Positive Rate')\n",
    "    plt.ylabel('True Positive Rate')\n",
    "    plt.title('Receiver Operating Characteristic Curve')\n",
    "    plt.legend()\n",
    "    plt.show()\n",
    "\n",
    "\n",
    "\n",
    "fper, tper, thresholds = roc_curve(df_tgts, prob)\n",
    "plot_roc_curve(fper, tper)"
   ]
  },
  {
   "cell_type": "code",
   "execution_count": 25,
   "id": "afbd6136",
   "metadata": {
    "scrolled": true
   },
   "outputs": [
    {
     "name": "stdout",
     "output_type": "stream",
     "text": [
      "0.94 accuracy with a standard deviation of 0.00\n"
     ]
    }
   ],
   "source": [
    "print(\"%0.2f accuracy with a standard deviation of %0.2f\" % (scoresknn.mean(), scoresknn.std()))"
   ]
  }
 ],
 "metadata": {
  "kernelspec": {
   "display_name": "Python 3 (ipykernel)",
   "language": "python",
   "name": "python3"
  },
  "language_info": {
   "codemirror_mode": {
    "name": "ipython",
    "version": 3
   },
   "file_extension": ".py",
   "mimetype": "text/x-python",
   "name": "python",
   "nbconvert_exporter": "python",
   "pygments_lexer": "ipython3",
   "version": "3.9.7"
  }
 },
 "nbformat": 4,
 "nbformat_minor": 5
}
